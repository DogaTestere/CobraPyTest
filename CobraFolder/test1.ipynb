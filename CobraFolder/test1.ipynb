{
 "cells": [
  {
   "cell_type": "code",
   "execution_count": null,
   "id": "d053f246",
   "metadata": {},
   "outputs": [],
   "source": [
    "import pandas as pd\n",
    "import numpy as np\n",
    "import matplotlib.pyplot as plt\n",
    "\n",
    "from pandas import Series, DataFrame\n",
    "from cobra.io import load_model\n",
    "from cobra.flux_analysis import (\n",
    "    flux_variability_analysis\n",
    ")\n",
    "\n",
    "model = load_model(\"iML1515\")"
   ]
  },
  {
   "cell_type": "code",
   "execution_count": 15,
   "id": "c1925e5e",
   "metadata": {},
   "outputs": [
    {
     "data": {
      "text/plain": [
       "0    <Solution 0.877 at 0x7c46401307a0>\n",
       "dtype: object"
      ]
     },
     "execution_count": 15,
     "metadata": {},
     "output_type": "execute_result"
    }
   ],
   "source": [
    "solution = model.optimize()\n",
    "\n",
    "solutionSeries = Series(solution)\n",
    "solutionSeries"
   ]
  },
  {
   "cell_type": "code",
   "execution_count": 18,
   "id": "1739610f",
   "metadata": {},
   "outputs": [
    {
     "data": {
      "text/plain": [
       "array([0.87699721])"
      ]
     },
     "execution_count": 18,
     "metadata": {},
     "output_type": "execute_result"
    }
   ],
   "source": [
    "solution = model.optimize().objective_value\n",
    "\n",
    "solutionSeries = Series(solution)\n",
    "solutionSeries.values"
   ]
  },
  {
   "cell_type": "code",
   "execution_count": 26,
   "id": "7b6a8e6d",
   "metadata": {},
   "outputs": [
    {
     "data": {
      "text/html": [
       "<div>\n",
       "<style scoped>\n",
       "    .dataframe tbody tr th:only-of-type {\n",
       "        vertical-align: middle;\n",
       "    }\n",
       "\n",
       "    .dataframe tbody tr th {\n",
       "        vertical-align: top;\n",
       "    }\n",
       "\n",
       "    .dataframe thead th {\n",
       "        text-align: right;\n",
       "    }\n",
       "</style>\n",
       "<table border=\"1\" class=\"dataframe\">\n",
       "  <thead>\n",
       "    <tr style=\"text-align: right;\">\n",
       "      <th></th>\n",
       "      <th>minimum</th>\n",
       "      <th>maximum</th>\n",
       "    </tr>\n",
       "  </thead>\n",
       "  <tbody>\n",
       "    <tr>\n",
       "      <th>SHK3Dr</th>\n",
       "      <td>3.342403e-01</td>\n",
       "      <td>3.342403e-01</td>\n",
       "    </tr>\n",
       "    <tr>\n",
       "      <th>OMPDC</th>\n",
       "      <td>2.901063e-01</td>\n",
       "      <td>2.901063e-01</td>\n",
       "    </tr>\n",
       "    <tr>\n",
       "      <th>PYNP2r</th>\n",
       "      <td>2.167649e-12</td>\n",
       "      <td>2.294751e-02</td>\n",
       "    </tr>\n",
       "    <tr>\n",
       "      <th>CYTDK2</th>\n",
       "      <td>0.000000e+00</td>\n",
       "      <td>2.858328e-12</td>\n",
       "    </tr>\n",
       "    <tr>\n",
       "      <th>XPPT</th>\n",
       "      <td>0.000000e+00</td>\n",
       "      <td>-7.428496e-13</td>\n",
       "    </tr>\n",
       "    <tr>\n",
       "      <th>HXPRT</th>\n",
       "      <td>0.000000e+00</td>\n",
       "      <td>-2.086552e-13</td>\n",
       "    </tr>\n",
       "    <tr>\n",
       "      <th>NDPK6</th>\n",
       "      <td>0.000000e+00</td>\n",
       "      <td>-6.215604e-12</td>\n",
       "    </tr>\n",
       "    <tr>\n",
       "      <th>NDPK5</th>\n",
       "      <td>-2.294751e-02</td>\n",
       "      <td>1.143331e-11</td>\n",
       "    </tr>\n",
       "    <tr>\n",
       "      <th>NDPK8</th>\n",
       "      <td>-2.294751e-02</td>\n",
       "      <td>1.143331e-11</td>\n",
       "    </tr>\n",
       "    <tr>\n",
       "      <th>DHORTS</th>\n",
       "      <td>-2.901063e-01</td>\n",
       "      <td>-2.901063e-01</td>\n",
       "    </tr>\n",
       "  </tbody>\n",
       "</table>\n",
       "</div>"
      ],
      "text/plain": [
       "             minimum       maximum\n",
       "SHK3Dr  3.342403e-01  3.342403e-01\n",
       "OMPDC   2.901063e-01  2.901063e-01\n",
       "PYNP2r  2.167649e-12  2.294751e-02\n",
       "CYTDK2  0.000000e+00  2.858328e-12\n",
       "XPPT    0.000000e+00 -7.428496e-13\n",
       "HXPRT   0.000000e+00 -2.086552e-13\n",
       "NDPK6   0.000000e+00 -6.215604e-12\n",
       "NDPK5  -2.294751e-02  1.143331e-11\n",
       "NDPK8  -2.294751e-02  1.143331e-11\n",
       "DHORTS -2.901063e-01 -2.901063e-01"
      ]
     },
     "execution_count": 26,
     "metadata": {},
     "output_type": "execute_result"
    }
   ],
   "source": [
    "fva = flux_variability_analysis(\n",
    "    model,\n",
    "    model.reactions[:10],\n",
    "    loopless=True\n",
    ")\n",
    "\n",
    "frame = pd.DataFrame(fva)\n",
    "frame.sort_values(by=\"minimum\", ascending=False)"
   ]
  },
  {
   "cell_type": "code",
   "execution_count": 23,
   "id": "ba8959e2",
   "metadata": {},
   "outputs": [
    {
     "data": {
      "text/html": [
       "<div>\n",
       "<style scoped>\n",
       "    .dataframe tbody tr th:only-of-type {\n",
       "        vertical-align: middle;\n",
       "    }\n",
       "\n",
       "    .dataframe tbody tr th {\n",
       "        vertical-align: top;\n",
       "    }\n",
       "\n",
       "    .dataframe thead th {\n",
       "        text-align: right;\n",
       "    }\n",
       "</style>\n",
       "<table border=\"1\" class=\"dataframe\">\n",
       "  <thead>\n",
       "    <tr style=\"text-align: right;\">\n",
       "      <th></th>\n",
       "      <th>minimum</th>\n",
       "      <th>maximum</th>\n",
       "    </tr>\n",
       "  </thead>\n",
       "  <tbody>\n",
       "    <tr>\n",
       "      <th>CYTDK2</th>\n",
       "      <td>0.000000e+00</td>\n",
       "      <td>2.858328e-12</td>\n",
       "    </tr>\n",
       "    <tr>\n",
       "      <th>XPPT</th>\n",
       "      <td>0.000000e+00</td>\n",
       "      <td>-7.428496e-13</td>\n",
       "    </tr>\n",
       "    <tr>\n",
       "      <th>HXPRT</th>\n",
       "      <td>0.000000e+00</td>\n",
       "      <td>-2.086552e-13</td>\n",
       "    </tr>\n",
       "    <tr>\n",
       "      <th>NDPK5</th>\n",
       "      <td>-2.294751e-02</td>\n",
       "      <td>1.143331e-11</td>\n",
       "    </tr>\n",
       "    <tr>\n",
       "      <th>SHK3Dr</th>\n",
       "      <td>3.342403e-01</td>\n",
       "      <td>3.342403e-01</td>\n",
       "    </tr>\n",
       "    <tr>\n",
       "      <th>NDPK6</th>\n",
       "      <td>0.000000e+00</td>\n",
       "      <td>-6.215604e-12</td>\n",
       "    </tr>\n",
       "    <tr>\n",
       "      <th>NDPK8</th>\n",
       "      <td>-2.294751e-02</td>\n",
       "      <td>1.143331e-11</td>\n",
       "    </tr>\n",
       "    <tr>\n",
       "      <th>DHORTS</th>\n",
       "      <td>-2.901063e-01</td>\n",
       "      <td>-2.901063e-01</td>\n",
       "    </tr>\n",
       "    <tr>\n",
       "      <th>OMPDC</th>\n",
       "      <td>2.901063e-01</td>\n",
       "      <td>2.901063e-01</td>\n",
       "    </tr>\n",
       "    <tr>\n",
       "      <th>PYNP2r</th>\n",
       "      <td>6.389153e-11</td>\n",
       "      <td>2.294751e-02</td>\n",
       "    </tr>\n",
       "  </tbody>\n",
       "</table>\n",
       "</div>"
      ],
      "text/plain": [
       "             minimum       maximum\n",
       "CYTDK2  0.000000e+00  2.858328e-12\n",
       "XPPT    0.000000e+00 -7.428496e-13\n",
       "HXPRT   0.000000e+00 -2.086552e-13\n",
       "NDPK5  -2.294751e-02  1.143331e-11\n",
       "SHK3Dr  3.342403e-01  3.342403e-01\n",
       "NDPK6   0.000000e+00 -6.215604e-12\n",
       "NDPK8  -2.294751e-02  1.143331e-11\n",
       "DHORTS -2.901063e-01 -2.901063e-01\n",
       "OMPDC   2.901063e-01  2.901063e-01\n",
       "PYNP2r  6.389153e-11  2.294751e-02"
      ]
     },
     "execution_count": 23,
     "metadata": {},
     "output_type": "execute_result"
    }
   ],
   "source": [
    "fva = flux_variability_analysis(\n",
    "    model,\n",
    "    model.reactions[:10],\n",
    "    loopless=True\n",
    ")\n",
    "\n",
    "frame = pd.DataFrame(fva)\n",
    "frame"
   ]
  },
  {
   "cell_type": "code",
   "execution_count": null,
   "id": "0777b2df",
   "metadata": {},
   "outputs": [
    {
     "data": {
      "image/png": "[encoded data removed]",
      "text/plain": [
       "<Figure size 700x700 with 1 Axes>"
      ]
     },
     "metadata": {},
     "output_type": "display_data"
    }
   ],
   "source": [
    "fva = flux_variability_analysis(\n",
    "    model,\n",
    "    model.reactions[:10],\n",
    "    loopless=True\n",
    ")\n",
    "\n",
    "fig = plt.figure(figsize=(7,7))\n",
    "ax = fig.add_subplot(111)\n",
    "\n",
    "ax.scatter(\n",
    "    fva[\"minimum\"],\n",
    "    fva[\"maximum\"],\n",
    "    marker=\"o\",\n",
    "    color=\"r\"\n",
    ")\n",
    "\n",
    "ax.set_xlabel(\"Minumum Flux\")\n",
    "ax.set_ylabel(\"Maximum Flux\")\n",
    "plt.show()\n",
    "\n",
    "# Some points overlap and labels are too small (Labels probably causes overlap?)"
   ]
  },
  {
   "cell_type": "code",
   "execution_count": 17,
   "id": "2ae63b2a",
   "metadata": {},
   "outputs": [
    {
     "data": {
      "image/png": "[encoded data removed]",
      "text/plain": [
       "<Figure size 500x500 with 1 Axes>"
      ]
     },
     "metadata": {},
     "output_type": "display_data"
    }
   ],
   "source": [
    "fva = flux_variability_analysis(\n",
    "    model,\n",
    "    model.reactions[:10],\n",
    "    loopless=True\n",
    ")\n",
    "\n",
    "fig = plt.figure(figsize=(5,5))\n",
    "ax = fig.add_subplot(111)\n",
    "\n",
    "colors = plt.cm.tab10(np.linspace(0, 1, len(fva)))\n",
    "\n",
    "for (label, x, y), c in zip(fva.itertuples(), colors):\n",
    "    ax.scatter(x, y, color=c, label=label)\n",
    "\n",
    "handles, labels = ax.get_legend_handles_labels()\n",
    "by_label = dict(zip(labels, handles))\n",
    "\n",
    "ax.legend(by_label.values(), by_label.keys(), fontsize=9, loc='best')\n",
    "\n",
    "ax.set_xlabel(\"Minimum Flux\")\n",
    "ax.set_ylabel(\"Maximum Flux\")\n",
    "ax.ticklabel_format(style='sci', axis='both', scilimits=(0, 0))\n",
    "plt.show()"
   ]
  },
  {
   "cell_type": "code",
   "execution_count": null,
   "id": "31c312f4",
   "metadata": {},
   "outputs": [],
   "source": []
  }
 ],
 "metadata": {
  "kernelspec": {
   "display_name": "cobratest-py3.12",
   "language": "python",
   "name": "python3"
  },
  "language_info": {
   "codemirror_mode": {
    "name": "ipython",
    "version": 3
   },
   "file_extension": ".py",
   "mimetype": "text/x-python",
   "name": "python",
   "nbconvert_exporter": "python",
   "pygments_lexer": "ipython3",
   "version": "3.12.9"
  }
 },
 "nbformat": 4,
 "nbformat_minor": 5
}
