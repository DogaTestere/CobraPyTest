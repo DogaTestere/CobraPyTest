{
 "cells": [
  {
   "cell_type": "code",
   "execution_count": 1,
   "id": "da27afd2",
   "metadata": {},
   "outputs": [],
   "source": [
    "from cobra.io import load_model\n",
    "from cobra.flux_analysis import (\n",
    "    single_gene_deletion, single_reaction_deletion, double_gene_deletion,\n",
    "    double_reaction_deletion, flux_variability_analysis)\n",
    "\n",
    "model = load_model(\"iML1515\")"
   ]
  },
  {
   "cell_type": "code",
   "execution_count": 3,
   "id": "09b8bf2b",
   "metadata": {},
   "outputs": [
    {
     "data": {
      "text/html": [
       "\n",
       "        <table>\n",
       "            <tr>\n",
       "                <td><strong>Name</strong></td>\n",
       "                <td>iML1515</td>\n",
       "            </tr><tr>\n",
       "                <td><strong>Memory address</strong></td>\n",
       "                <td>712f68c3ce30</td>\n",
       "            </tr><tr>\n",
       "                <td><strong>Number of metabolites</strong></td>\n",
       "                <td>1877</td>\n",
       "            </tr><tr>\n",
       "                <td><strong>Number of reactions</strong></td>\n",
       "                <td>2712</td>\n",
       "            </tr><tr>\n",
       "                <td><strong>Number of genes</strong></td>\n",
       "                <td>1516</td>\n",
       "            </tr><tr>\n",
       "                <td><strong>Number of groups</strong></td>\n",
       "                <td>0</td>\n",
       "            </tr><tr>\n",
       "                <td><strong>Objective expression</strong></td>\n",
       "                <td>1.0*BIOMASS_Ec_iML1515_core_75p37M - 1.0*BIOMASS_Ec_iML1515_core_75p37M_reverse_35685</td>\n",
       "            </tr><tr>\n",
       "                <td><strong>Compartments</strong></td>\n",
       "                <td>cytosol, extracellular space, periplasm</td>\n",
       "            </tr>\n",
       "          </table>"
      ],
      "text/plain": [
       "<Model iML1515 at 0x712f68c3ce30>"
      ]
     },
     "execution_count": 3,
     "metadata": {},
     "output_type": "execute_result"
    }
   ],
   "source": [
    "model"
   ]
  },
  {
   "cell_type": "code",
   "execution_count": 31,
   "id": "7b731c50",
   "metadata": {},
   "outputs": [
    {
     "data": {
      "text/html": [
       "<strong><em>Optimal</em> solution with objective value 0.877</strong><br><div>\n",
       "<style scoped>\n",
       "    .dataframe tbody tr th:only-of-type {\n",
       "        vertical-align: middle;\n",
       "    }\n",
       "\n",
       "    .dataframe tbody tr th {\n",
       "        vertical-align: top;\n",
       "    }\n",
       "\n",
       "    .dataframe thead th {\n",
       "        text-align: right;\n",
       "    }\n",
       "</style>\n",
       "<table border=\"1\" class=\"dataframe\">\n",
       "  <thead>\n",
       "    <tr style=\"text-align: right;\">\n",
       "      <th></th>\n",
       "      <th>fluxes</th>\n",
       "      <th>reduced_costs</th>\n",
       "    </tr>\n",
       "  </thead>\n",
       "  <tbody>\n",
       "    <tr>\n",
       "      <th>CYTDK2</th>\n",
       "      <td>0.00000</td>\n",
       "      <td>0.000000e+00</td>\n",
       "    </tr>\n",
       "    <tr>\n",
       "      <th>XPPT</th>\n",
       "      <td>0.00000</td>\n",
       "      <td>2.775558e-17</td>\n",
       "    </tr>\n",
       "    <tr>\n",
       "      <th>HXPRT</th>\n",
       "      <td>0.00000</td>\n",
       "      <td>-1.504671e-02</td>\n",
       "    </tr>\n",
       "    <tr>\n",
       "      <th>NDPK5</th>\n",
       "      <td>0.00000</td>\n",
       "      <td>1.445910e-16</td>\n",
       "    </tr>\n",
       "    <tr>\n",
       "      <th>SHK3Dr</th>\n",
       "      <td>0.33424</td>\n",
       "      <td>-6.383215e-17</td>\n",
       "    </tr>\n",
       "    <tr>\n",
       "      <th>...</th>\n",
       "      <td>...</td>\n",
       "      <td>...</td>\n",
       "    </tr>\n",
       "    <tr>\n",
       "      <th>MPTS</th>\n",
       "      <td>0.00000</td>\n",
       "      <td>1.127570e-17</td>\n",
       "    </tr>\n",
       "    <tr>\n",
       "      <th>MOCOS</th>\n",
       "      <td>0.00000</td>\n",
       "      <td>-5.642514e-03</td>\n",
       "    </tr>\n",
       "    <tr>\n",
       "      <th>BMOGDS2</th>\n",
       "      <td>0.00000</td>\n",
       "      <td>-3.338488e-01</td>\n",
       "    </tr>\n",
       "    <tr>\n",
       "      <th>FESD2s</th>\n",
       "      <td>0.00000</td>\n",
       "      <td>1.517883e-18</td>\n",
       "    </tr>\n",
       "    <tr>\n",
       "      <th>OCTNLL</th>\n",
       "      <td>0.00000</td>\n",
       "      <td>-1.504671e-02</td>\n",
       "    </tr>\n",
       "  </tbody>\n",
       "</table>\n",
       "<p>2712 rows × 2 columns</p>\n",
       "</div>"
      ],
      "text/plain": [
       "<Solution 0.877 at 0x72be15c230b0>"
      ]
     },
     "execution_count": 31,
     "metadata": {},
     "output_type": "execute_result"
    }
   ],
   "source": [
    "model.optimize()"
   ]
  },
  {
   "cell_type": "code",
   "execution_count": 6,
   "id": "cacf4b14",
   "metadata": {},
   "outputs": [
    {
     "data": {
      "text/html": [
       "\n",
       "        <table>\n",
       "            <tr>\n",
       "                <td><strong>Reaction identifier</strong></td><td>BIOMASS_Ec_iML1515_core_75p37M</td>\n",
       "            </tr><tr>\n",
       "                <td><strong>Name</strong></td><td>E. coli biomass objective function (iML1515) - core - with 75.37 GAM estimate</td>\n",
       "            </tr><tr>\n",
       "                <td><strong>Memory address</strong></td>\n",
       "                <td>0x717fb3433a40</td>\n",
       "            </tr><tr>\n",
       "                <td><strong>Stoichiometry</strong></td>\n",
       "                <td>\n",
       "                    <p style='text-align:right'>0.000223 10fthf_c + 2.6e-05 2fe2s_c + 0.000223 2ohph_c + 0.00026 4fe4s_c + 0.513689 ala__L_c + 0.000223 amet_c + 0.295792 arg__L_c + 0.241055 asn__L_c + 0.241055 asp__L_c + 75.55223 atp_c + 2e-06...</p>\n",
       "                    <p style='text-align:right'>0.000223 10-Formyltetrahydrofolate + 2.6e-05 [2Fe-2S] iron-sulfur cluster + 0.000223 2-Octaprenyl-6-hydroxyphenol + 0.00026 [4Fe-4S] iron-sulfur cluster + 0.513689 L-Alanine + 0.000223 S-Adenosyl-...</p>\n",
       "                </td>\n",
       "            </tr><tr>\n",
       "                <td><strong>GPR</strong></td><td></td>\n",
       "            </tr><tr>\n",
       "                <td><strong>Lower bound</strong></td><td>0.0</td>\n",
       "            </tr><tr>\n",
       "                <td><strong>Upper bound</strong></td><td>1000.0</td>\n",
       "            </tr>\n",
       "        </table>\n",
       "        "
      ],
      "text/plain": [
       "<Reaction BIOMASS_Ec_iML1515_core_75p37M at 0x717fb3433a40>"
      ]
     },
     "execution_count": 6,
     "metadata": {},
     "output_type": "execute_result"
    }
   ],
   "source": [
    "model.reactions.get_by_id(\"BIOMASS_Ec_iML1515_core_75p37M\")"
   ]
  },
  {
   "cell_type": "code",
   "execution_count": 5,
   "id": "4869288d",
   "metadata": {},
   "outputs": [],
   "source": [
    "#model.metabolites.atp_c.summary()\n",
    "#model.reactions.get_by_id(\"ATPS4rpp\")"
   ]
  },
  {
   "cell_type": "code",
   "execution_count": 6,
   "id": "3bea287e",
   "metadata": {},
   "outputs": [
    {
     "data": {
      "text/plain": [
       "octapb_c      -0.151407\n",
       "cysi__L_e      0.000000\n",
       "dhap_c        -0.049842\n",
       "prbatp_c      -0.260026\n",
       "10fthf_c      -0.350776\n",
       "                 ...   \n",
       "12dgr160_p    -0.703433\n",
       "1agpg120_p    -0.336670\n",
       "tungs_e        0.000000\n",
       "5fthf_c       -0.350776\n",
       "arbtn_fe3_c    0.006113\n",
       "Name: shadow_prices, Length: 1877, dtype: float64"
      ]
     },
     "execution_count": 6,
     "metadata": {},
     "output_type": "execute_result"
    }
   ],
   "source": [
    "solution = model.optimize()\n",
    "\n",
    "solution.status\n",
    "solution.shadow_prices\n",
    "\n",
    "#solution.fluxes\n",
    "# Freezed whole program and crashed it. Don't run it"
   ]
  },
  {
   "cell_type": "code",
   "execution_count": 30,
   "id": "671c3520",
   "metadata": {},
   "outputs": [
    {
     "data": {
      "text/plain": [
       "0.8769972144269834"
      ]
     },
     "execution_count": 30,
     "metadata": {},
     "output_type": "execute_result"
    }
   ],
   "source": [
    "model.optimize().objective_value"
   ]
  },
  {
   "cell_type": "code",
   "execution_count": 38,
   "id": "1a246f4c",
   "metadata": {},
   "outputs": [
    {
     "data": {
      "text/html": [
       "<h3>Objective</h3><p>1.0 BIOMASS_Ec_iML1515_core_75p37M = 0.8769972142571599</p><h4>Uptake</h4><table border=\"1\" class=\"dataframe\">\n",
       "  <thead>\n",
       "    <tr style=\"text-align: right;\">\n",
       "      <th>Metabolite</th>\n",
       "      <th>Reaction</th>\n",
       "      <th>Flux</th>\n",
       "      <th>C-Number</th>\n",
       "      <th>C-Flux</th>\n",
       "    </tr>\n",
       "  </thead>\n",
       "  <tbody>\n",
       "    <tr>\n",
       "      <td>ca2_e</td>\n",
       "      <td>EX_ca2_e</td>\n",
       "      <td>0.004565</td>\n",
       "      <td>0</td>\n",
       "      <td>0.00%</td>\n",
       "    </tr>\n",
       "    <tr>\n",
       "      <td>cl_e</td>\n",
       "      <td>EX_cl_e</td>\n",
       "      <td>0.004565</td>\n",
       "      <td>0</td>\n",
       "      <td>0.00%</td>\n",
       "    </tr>\n",
       "    <tr>\n",
       "      <td>cobalt2_e</td>\n",
       "      <td>EX_cobalt2_e</td>\n",
       "      <td>2.192E-05</td>\n",
       "      <td>0</td>\n",
       "      <td>0.00%</td>\n",
       "    </tr>\n",
       "    <tr>\n",
       "      <td>cu2_e</td>\n",
       "      <td>EX_cu2_e</td>\n",
       "      <td>0.0006218</td>\n",
       "      <td>0</td>\n",
       "      <td>0.00%</td>\n",
       "    </tr>\n",
       "    <tr>\n",
       "      <td>fe2_e</td>\n",
       "      <td>EX_fe2_e</td>\n",
       "      <td>0.01409</td>\n",
       "      <td>0</td>\n",
       "      <td>0.00%</td>\n",
       "    </tr>\n",
       "    <tr>\n",
       "      <td>glc__D_e</td>\n",
       "      <td>EX_glc__D_e</td>\n",
       "      <td>10</td>\n",
       "      <td>6</td>\n",
       "      <td>100.00%</td>\n",
       "    </tr>\n",
       "    <tr>\n",
       "      <td>k_e</td>\n",
       "      <td>EX_k_e</td>\n",
       "      <td>0.1712</td>\n",
       "      <td>0</td>\n",
       "      <td>0.00%</td>\n",
       "    </tr>\n",
       "    <tr>\n",
       "      <td>mg2_e</td>\n",
       "      <td>EX_mg2_e</td>\n",
       "      <td>0.007608</td>\n",
       "      <td>0</td>\n",
       "      <td>0.00%</td>\n",
       "    </tr>\n",
       "    <tr>\n",
       "      <td>mn2_e</td>\n",
       "      <td>EX_mn2_e</td>\n",
       "      <td>0.000606</td>\n",
       "      <td>0</td>\n",
       "      <td>0.00%</td>\n",
       "    </tr>\n",
       "    <tr>\n",
       "      <td>mobd_e</td>\n",
       "      <td>EX_mobd_e</td>\n",
       "      <td>6.139E-06</td>\n",
       "      <td>0</td>\n",
       "      <td>0.00%</td>\n",
       "    </tr>\n",
       "    <tr>\n",
       "      <td>nh4_e</td>\n",
       "      <td>EX_nh4_e</td>\n",
       "      <td>9.471</td>\n",
       "      <td>0</td>\n",
       "      <td>0.00%</td>\n",
       "    </tr>\n",
       "    <tr>\n",
       "      <td>ni2_e</td>\n",
       "      <td>EX_ni2_e</td>\n",
       "      <td>0.0002833</td>\n",
       "      <td>0</td>\n",
       "      <td>0.00%</td>\n",
       "    </tr>\n",
       "    <tr>\n",
       "      <td>o2_e</td>\n",
       "      <td>EX_o2_e</td>\n",
       "      <td>22.13</td>\n",
       "      <td>0</td>\n",
       "      <td>0.00%</td>\n",
       "    </tr>\n",
       "    <tr>\n",
       "      <td>pi_e</td>\n",
       "      <td>EX_pi_e</td>\n",
       "      <td>0.846</td>\n",
       "      <td>0</td>\n",
       "      <td>0.00%</td>\n",
       "    </tr>\n",
       "    <tr>\n",
       "      <td>so4_e</td>\n",
       "      <td>EX_so4_e</td>\n",
       "      <td>0.2208</td>\n",
       "      <td>0</td>\n",
       "      <td>0.00%</td>\n",
       "    </tr>\n",
       "    <tr>\n",
       "      <td>zn2_e</td>\n",
       "      <td>EX_zn2_e</td>\n",
       "      <td>0.0002991</td>\n",
       "      <td>0</td>\n",
       "      <td>0.00%</td>\n",
       "    </tr>\n",
       "  </tbody>\n",
       "</table><h4>Secretion</h4><table border=\"1\" class=\"dataframe\">\n",
       "  <thead>\n",
       "    <tr style=\"text-align: right;\">\n",
       "      <th>Metabolite</th>\n",
       "      <th>Reaction</th>\n",
       "      <th>Flux</th>\n",
       "      <th>C-Number</th>\n",
       "      <th>C-Flux</th>\n",
       "    </tr>\n",
       "  </thead>\n",
       "  <tbody>\n",
       "    <tr>\n",
       "      <td>4crsol_c</td>\n",
       "      <td>DM_4crsol_c</td>\n",
       "      <td>-0.0001956</td>\n",
       "      <td>7</td>\n",
       "      <td>0.01%</td>\n",
       "    </tr>\n",
       "    <tr>\n",
       "      <td>5drib_c</td>\n",
       "      <td>DM_5drib_c</td>\n",
       "      <td>-0.0001973</td>\n",
       "      <td>5</td>\n",
       "      <td>0.00%</td>\n",
       "    </tr>\n",
       "    <tr>\n",
       "      <td>amob_c</td>\n",
       "      <td>DM_amob_c</td>\n",
       "      <td>-1.754E-06</td>\n",
       "      <td>15</td>\n",
       "      <td>0.00%</td>\n",
       "    </tr>\n",
       "    <tr>\n",
       "      <td>co2_e</td>\n",
       "      <td>EX_co2_e</td>\n",
       "      <td>-24</td>\n",
       "      <td>1</td>\n",
       "      <td>99.99%</td>\n",
       "    </tr>\n",
       "    <tr>\n",
       "      <td>h2o_e</td>\n",
       "      <td>EX_h2o_e</td>\n",
       "      <td>-47.16</td>\n",
       "      <td>0</td>\n",
       "      <td>0.00%</td>\n",
       "    </tr>\n",
       "    <tr>\n",
       "      <td>h_e</td>\n",
       "      <td>EX_h_e</td>\n",
       "      <td>-8.058</td>\n",
       "      <td>0</td>\n",
       "      <td>0.00%</td>\n",
       "    </tr>\n",
       "    <tr>\n",
       "      <td>meoh_e</td>\n",
       "      <td>EX_meoh_e</td>\n",
       "      <td>-1.754E-06</td>\n",
       "      <td>1</td>\n",
       "      <td>0.00%</td>\n",
       "    </tr>\n",
       "  </tbody>\n",
       "</table>"
      ],
      "text/plain": [
       "<cobra.summary.model_summary.ModelSummary at 0x72be07b0a450>"
      ]
     },
     "execution_count": 38,
     "metadata": {},
     "output_type": "execute_result"
    }
   ],
   "source": [
    "model.summary()"
   ]
  },
  {
   "cell_type": "code",
   "execution_count": 36,
   "id": "50154313",
   "metadata": {},
   "outputs": [
    {
     "data": {
      "text/plain": [
       "{'EX_pi_e': 1000.0,\n",
       " 'EX_co2_e': 1000.0,\n",
       " 'EX_fe3_e': 1000.0,\n",
       " 'EX_h_e': 1000.0,\n",
       " 'EX_mn2_e': 1000.0,\n",
       " 'EX_fe2_e': 1000.0,\n",
       " 'EX_glc__D_e': 10.0,\n",
       " 'EX_zn2_e': 1000.0,\n",
       " 'EX_mg2_e': 1000.0,\n",
       " 'EX_ca2_e': 1000.0,\n",
       " 'EX_ni2_e': 1000.0,\n",
       " 'EX_cu2_e': 1000.0,\n",
       " 'EX_sel_e': 1000.0,\n",
       " 'EX_cobalt2_e': 1000.0,\n",
       " 'EX_h2o_e': 1000.0,\n",
       " 'EX_mobd_e': 1000.0,\n",
       " 'EX_so4_e': 1000.0,\n",
       " 'EX_nh4_e': 1000.0,\n",
       " 'EX_k_e': 1000.0,\n",
       " 'EX_na1_e': 1000.0,\n",
       " 'EX_cl_e': 1000.0,\n",
       " 'EX_tungs_e': 1000.0,\n",
       " 'EX_slnt_e': 1000.0}"
      ]
     },
     "execution_count": 36,
     "metadata": {},
     "output_type": "execute_result"
    }
   ],
   "source": [
    "model.medium"
   ]
  },
  {
   "cell_type": "code",
   "execution_count": null,
   "id": "e9fd67d6",
   "metadata": {},
   "outputs": [],
   "source": [
    "medium_NoGlc = model.medium\n",
    "medium_NoGlc[\"EX_glc__D_e\"] = 0.0\n",
    "model.medium = medium_NoGlc\n",
    "\n",
    "# There is a small trap here. model.medium can not be assigned to directly. So the following will not work:\n",
    "# model.medium[\"EX_co2_e\"] = 0.0\n",
    "# model.medium\n",
    "\n",
    "model.medium"
   ]
  },
  {
   "cell_type": "code",
   "execution_count": null,
   "id": "fbe8da5c",
   "metadata": {},
   "outputs": [
    {
     "name": "stdout",
     "output_type": "stream",
     "text": [
      "Regular soltion: 0.8769972144269859\n",
      "No oxygen in the medium: 0.1575398169375942\n",
      "No oxygen intake: 0.15753981693760674\n"
     ]
    }
   ],
   "source": [
    "print(f\"Regular soltion: {model.optimize().objective_value}\")\n",
    "\n",
    "with model:\n",
    "    medium_NoO2 = model.medium\n",
    "    medium_NoO2[\"EX_o2_e\"] = 0.0\n",
    "    model.medium = medium_NoO2\n",
    "    print(f\"No oxygen in the medium: {model.optimize().objective_value}\")\n",
    "\n",
    "with model:\n",
    "    o2_Intake = model.reactions.get_by_id(\"EX_o2_e\")\n",
    "    o2_Intake.bounds = (0, 1000)\n",
    "    print(f\"No oxygen intake: {model.optimize().objective_value}\")\n",
    "\n",
    "# Medium and intake gives different results."
   ]
  },
  {
   "cell_type": "code",
   "execution_count": 40,
   "id": "0a88d822",
   "metadata": {},
   "outputs": [
    {
     "data": {
      "text/html": [
       "<h3>Objective</h3><p>1.0 BIOMASS_Ec_iML1515_core_75p37M = 0.15753981693759841</p><h4>Uptake</h4><table border=\"1\" class=\"dataframe\">\n",
       "  <thead>\n",
       "    <tr style=\"text-align: right;\">\n",
       "      <th>Metabolite</th>\n",
       "      <th>Reaction</th>\n",
       "      <th>Flux</th>\n",
       "      <th>C-Number</th>\n",
       "      <th>C-Flux</th>\n",
       "    </tr>\n",
       "  </thead>\n",
       "  <tbody>\n",
       "    <tr>\n",
       "      <td>ca2_e</td>\n",
       "      <td>EX_ca2_e</td>\n",
       "      <td>0.00082</td>\n",
       "      <td>0</td>\n",
       "      <td>0.00%</td>\n",
       "    </tr>\n",
       "    <tr>\n",
       "      <td>cl_e</td>\n",
       "      <td>EX_cl_e</td>\n",
       "      <td>0.00082</td>\n",
       "      <td>0</td>\n",
       "      <td>0.00%</td>\n",
       "    </tr>\n",
       "    <tr>\n",
       "      <td>co2_e</td>\n",
       "      <td>EX_co2_e</td>\n",
       "      <td>0.05785</td>\n",
       "      <td>1</td>\n",
       "      <td>0.10%</td>\n",
       "    </tr>\n",
       "    <tr>\n",
       "      <td>cobalt2_e</td>\n",
       "      <td>EX_cobalt2_e</td>\n",
       "      <td>3.938E-06</td>\n",
       "      <td>0</td>\n",
       "      <td>0.00%</td>\n",
       "    </tr>\n",
       "    <tr>\n",
       "      <td>cu2_e</td>\n",
       "      <td>EX_cu2_e</td>\n",
       "      <td>0.0001117</td>\n",
       "      <td>0</td>\n",
       "      <td>0.00%</td>\n",
       "    </tr>\n",
       "    <tr>\n",
       "      <td>fe2_e</td>\n",
       "      <td>EX_fe2_e</td>\n",
       "      <td>0.0013</td>\n",
       "      <td>0</td>\n",
       "      <td>0.00%</td>\n",
       "    </tr>\n",
       "    <tr>\n",
       "      <td>fe3_e</td>\n",
       "      <td>EX_fe3_e</td>\n",
       "      <td>0.00123</td>\n",
       "      <td>0</td>\n",
       "      <td>0.00%</td>\n",
       "    </tr>\n",
       "    <tr>\n",
       "      <td>glc__D_e</td>\n",
       "      <td>EX_glc__D_e</td>\n",
       "      <td>10</td>\n",
       "      <td>6</td>\n",
       "      <td>99.90%</td>\n",
       "    </tr>\n",
       "    <tr>\n",
       "      <td>h2o_e</td>\n",
       "      <td>EX_h2o_e</td>\n",
       "      <td>4.591</td>\n",
       "      <td>0</td>\n",
       "      <td>0.00%</td>\n",
       "    </tr>\n",
       "    <tr>\n",
       "      <td>k_e</td>\n",
       "      <td>EX_k_e</td>\n",
       "      <td>0.03075</td>\n",
       "      <td>0</td>\n",
       "      <td>0.00%</td>\n",
       "    </tr>\n",
       "    <tr>\n",
       "      <td>mg2_e</td>\n",
       "      <td>EX_mg2_e</td>\n",
       "      <td>0.001367</td>\n",
       "      <td>0</td>\n",
       "      <td>0.00%</td>\n",
       "    </tr>\n",
       "    <tr>\n",
       "      <td>mn2_e</td>\n",
       "      <td>EX_mn2_e</td>\n",
       "      <td>0.0001089</td>\n",
       "      <td>0</td>\n",
       "      <td>0.00%</td>\n",
       "    </tr>\n",
       "    <tr>\n",
       "      <td>mobd_e</td>\n",
       "      <td>EX_mobd_e</td>\n",
       "      <td>1.103E-06</td>\n",
       "      <td>0</td>\n",
       "      <td>0.00%</td>\n",
       "    </tr>\n",
       "    <tr>\n",
       "      <td>nh4_e</td>\n",
       "      <td>EX_nh4_e</td>\n",
       "      <td>1.701</td>\n",
       "      <td>0</td>\n",
       "      <td>0.00%</td>\n",
       "    </tr>\n",
       "    <tr>\n",
       "      <td>ni2_e</td>\n",
       "      <td>EX_ni2_e</td>\n",
       "      <td>5.089E-05</td>\n",
       "      <td>0</td>\n",
       "      <td>0.00%</td>\n",
       "    </tr>\n",
       "    <tr>\n",
       "      <td>pi_e</td>\n",
       "      <td>EX_pi_e</td>\n",
       "      <td>0.152</td>\n",
       "      <td>0</td>\n",
       "      <td>0.00%</td>\n",
       "    </tr>\n",
       "    <tr>\n",
       "      <td>so4_e</td>\n",
       "      <td>EX_so4_e</td>\n",
       "      <td>0.03967</td>\n",
       "      <td>0</td>\n",
       "      <td>0.00%</td>\n",
       "    </tr>\n",
       "    <tr>\n",
       "      <td>zn2_e</td>\n",
       "      <td>EX_zn2_e</td>\n",
       "      <td>5.372E-05</td>\n",
       "      <td>0</td>\n",
       "      <td>0.00%</td>\n",
       "    </tr>\n",
       "  </tbody>\n",
       "</table><h4>Secretion</h4><table border=\"1\" class=\"dataframe\">\n",
       "  <thead>\n",
       "    <tr style=\"text-align: right;\">\n",
       "      <th>Metabolite</th>\n",
       "      <th>Reaction</th>\n",
       "      <th>Flux</th>\n",
       "      <th>C-Number</th>\n",
       "      <th>C-Flux</th>\n",
       "    </tr>\n",
       "  </thead>\n",
       "  <tbody>\n",
       "    <tr>\n",
       "      <td>4crsol_c</td>\n",
       "      <td>DM_4crsol_c</td>\n",
       "      <td>-3.513E-05</td>\n",
       "      <td>7</td>\n",
       "      <td>0.00%</td>\n",
       "    </tr>\n",
       "    <tr>\n",
       "      <td>5drib_c</td>\n",
       "      <td>DM_5drib_c</td>\n",
       "      <td>-0.0001057</td>\n",
       "      <td>5</td>\n",
       "      <td>0.00%</td>\n",
       "    </tr>\n",
       "    <tr>\n",
       "      <td>amob_c</td>\n",
       "      <td>DM_amob_c</td>\n",
       "      <td>-3.151E-07</td>\n",
       "      <td>15</td>\n",
       "      <td>0.00%</td>\n",
       "    </tr>\n",
       "    <tr>\n",
       "      <td>ac_e</td>\n",
       "      <td>EX_ac_e</td>\n",
       "      <td>-8.831</td>\n",
       "      <td>2</td>\n",
       "      <td>32.96%</td>\n",
       "    </tr>\n",
       "    <tr>\n",
       "      <td>etoh_e</td>\n",
       "      <td>EX_etoh_e</td>\n",
       "      <td>-8.746</td>\n",
       "      <td>2</td>\n",
       "      <td>32.64%</td>\n",
       "    </tr>\n",
       "    <tr>\n",
       "      <td>for_e</td>\n",
       "      <td>EX_for_e</td>\n",
       "      <td>-18.23</td>\n",
       "      <td>1</td>\n",
       "      <td>34.01%</td>\n",
       "    </tr>\n",
       "    <tr>\n",
       "      <td>h_e</td>\n",
       "      <td>EX_h_e</td>\n",
       "      <td>-28.61</td>\n",
       "      <td>0</td>\n",
       "      <td>0.00%</td>\n",
       "    </tr>\n",
       "    <tr>\n",
       "      <td>meoh_e</td>\n",
       "      <td>EX_meoh_e</td>\n",
       "      <td>-3.151E-07</td>\n",
       "      <td>1</td>\n",
       "      <td>0.00%</td>\n",
       "    </tr>\n",
       "    <tr>\n",
       "      <td>succ_e</td>\n",
       "      <td>EX_succ_e</td>\n",
       "      <td>-0.05256</td>\n",
       "      <td>4</td>\n",
       "      <td>0.39%</td>\n",
       "    </tr>\n",
       "  </tbody>\n",
       "</table>"
      ],
      "text/plain": [
       "<cobra.summary.model_summary.ModelSummary at 0x72be15d17020>"
      ]
     },
     "execution_count": 40,
     "metadata": {},
     "output_type": "execute_result"
    }
   ],
   "source": [
    "\n",
    "medium_No02 = model.medium\n",
    "medium_No02[\"EX_o2_e\"] = 0.0\n",
    "model.medium = medium_No02\n",
    "\n",
    "model.summary()"
   ]
  },
  {
   "cell_type": "code",
   "execution_count": 39,
   "id": "d3c7d7b7",
   "metadata": {},
   "outputs": [
    {
     "data": {
      "text/html": [
       "<h3>Objective</h3><p>1.0 BIOMASS_Ec_iML1515_core_75p37M = 0.15753981693759841</p><h4>Uptake</h4><table border=\"1\" class=\"dataframe\">\n",
       "  <thead>\n",
       "    <tr style=\"text-align: right;\">\n",
       "      <th>Metabolite</th>\n",
       "      <th>Reaction</th>\n",
       "      <th>Flux</th>\n",
       "      <th>C-Number</th>\n",
       "      <th>C-Flux</th>\n",
       "    </tr>\n",
       "  </thead>\n",
       "  <tbody>\n",
       "    <tr>\n",
       "      <td>ca2_e</td>\n",
       "      <td>EX_ca2_e</td>\n",
       "      <td>0.00082</td>\n",
       "      <td>0</td>\n",
       "      <td>0.00%</td>\n",
       "    </tr>\n",
       "    <tr>\n",
       "      <td>cl_e</td>\n",
       "      <td>EX_cl_e</td>\n",
       "      <td>0.00082</td>\n",
       "      <td>0</td>\n",
       "      <td>0.00%</td>\n",
       "    </tr>\n",
       "    <tr>\n",
       "      <td>co2_e</td>\n",
       "      <td>EX_co2_e</td>\n",
       "      <td>0.05785</td>\n",
       "      <td>1</td>\n",
       "      <td>0.10%</td>\n",
       "    </tr>\n",
       "    <tr>\n",
       "      <td>cobalt2_e</td>\n",
       "      <td>EX_cobalt2_e</td>\n",
       "      <td>3.938E-06</td>\n",
       "      <td>0</td>\n",
       "      <td>0.00%</td>\n",
       "    </tr>\n",
       "    <tr>\n",
       "      <td>cu2_e</td>\n",
       "      <td>EX_cu2_e</td>\n",
       "      <td>0.0001117</td>\n",
       "      <td>0</td>\n",
       "      <td>0.00%</td>\n",
       "    </tr>\n",
       "    <tr>\n",
       "      <td>fe2_e</td>\n",
       "      <td>EX_fe2_e</td>\n",
       "      <td>0.0013</td>\n",
       "      <td>0</td>\n",
       "      <td>0.00%</td>\n",
       "    </tr>\n",
       "    <tr>\n",
       "      <td>fe3_e</td>\n",
       "      <td>EX_fe3_e</td>\n",
       "      <td>0.00123</td>\n",
       "      <td>0</td>\n",
       "      <td>0.00%</td>\n",
       "    </tr>\n",
       "    <tr>\n",
       "      <td>glc__D_e</td>\n",
       "      <td>EX_glc__D_e</td>\n",
       "      <td>10</td>\n",
       "      <td>6</td>\n",
       "      <td>99.90%</td>\n",
       "    </tr>\n",
       "    <tr>\n",
       "      <td>h2o_e</td>\n",
       "      <td>EX_h2o_e</td>\n",
       "      <td>4.591</td>\n",
       "      <td>0</td>\n",
       "      <td>0.00%</td>\n",
       "    </tr>\n",
       "    <tr>\n",
       "      <td>k_e</td>\n",
       "      <td>EX_k_e</td>\n",
       "      <td>0.03075</td>\n",
       "      <td>0</td>\n",
       "      <td>0.00%</td>\n",
       "    </tr>\n",
       "    <tr>\n",
       "      <td>mg2_e</td>\n",
       "      <td>EX_mg2_e</td>\n",
       "      <td>0.001367</td>\n",
       "      <td>0</td>\n",
       "      <td>0.00%</td>\n",
       "    </tr>\n",
       "    <tr>\n",
       "      <td>mn2_e</td>\n",
       "      <td>EX_mn2_e</td>\n",
       "      <td>0.0001089</td>\n",
       "      <td>0</td>\n",
       "      <td>0.00%</td>\n",
       "    </tr>\n",
       "    <tr>\n",
       "      <td>mobd_e</td>\n",
       "      <td>EX_mobd_e</td>\n",
       "      <td>1.103E-06</td>\n",
       "      <td>0</td>\n",
       "      <td>0.00%</td>\n",
       "    </tr>\n",
       "    <tr>\n",
       "      <td>nh4_e</td>\n",
       "      <td>EX_nh4_e</td>\n",
       "      <td>1.701</td>\n",
       "      <td>0</td>\n",
       "      <td>0.00%</td>\n",
       "    </tr>\n",
       "    <tr>\n",
       "      <td>ni2_e</td>\n",
       "      <td>EX_ni2_e</td>\n",
       "      <td>5.089E-05</td>\n",
       "      <td>0</td>\n",
       "      <td>0.00%</td>\n",
       "    </tr>\n",
       "    <tr>\n",
       "      <td>pi_e</td>\n",
       "      <td>EX_pi_e</td>\n",
       "      <td>0.152</td>\n",
       "      <td>0</td>\n",
       "      <td>0.00%</td>\n",
       "    </tr>\n",
       "    <tr>\n",
       "      <td>so4_e</td>\n",
       "      <td>EX_so4_e</td>\n",
       "      <td>0.03967</td>\n",
       "      <td>0</td>\n",
       "      <td>0.00%</td>\n",
       "    </tr>\n",
       "    <tr>\n",
       "      <td>zn2_e</td>\n",
       "      <td>EX_zn2_e</td>\n",
       "      <td>5.372E-05</td>\n",
       "      <td>0</td>\n",
       "      <td>0.00%</td>\n",
       "    </tr>\n",
       "  </tbody>\n",
       "</table><h4>Secretion</h4><table border=\"1\" class=\"dataframe\">\n",
       "  <thead>\n",
       "    <tr style=\"text-align: right;\">\n",
       "      <th>Metabolite</th>\n",
       "      <th>Reaction</th>\n",
       "      <th>Flux</th>\n",
       "      <th>C-Number</th>\n",
       "      <th>C-Flux</th>\n",
       "    </tr>\n",
       "  </thead>\n",
       "  <tbody>\n",
       "    <tr>\n",
       "      <td>4crsol_c</td>\n",
       "      <td>DM_4crsol_c</td>\n",
       "      <td>-3.513E-05</td>\n",
       "      <td>7</td>\n",
       "      <td>0.00%</td>\n",
       "    </tr>\n",
       "    <tr>\n",
       "      <td>5drib_c</td>\n",
       "      <td>DM_5drib_c</td>\n",
       "      <td>-0.0001057</td>\n",
       "      <td>5</td>\n",
       "      <td>0.00%</td>\n",
       "    </tr>\n",
       "    <tr>\n",
       "      <td>amob_c</td>\n",
       "      <td>DM_amob_c</td>\n",
       "      <td>-3.151E-07</td>\n",
       "      <td>15</td>\n",
       "      <td>0.00%</td>\n",
       "    </tr>\n",
       "    <tr>\n",
       "      <td>ac_e</td>\n",
       "      <td>EX_ac_e</td>\n",
       "      <td>-8.831</td>\n",
       "      <td>2</td>\n",
       "      <td>32.96%</td>\n",
       "    </tr>\n",
       "    <tr>\n",
       "      <td>etoh_e</td>\n",
       "      <td>EX_etoh_e</td>\n",
       "      <td>-8.746</td>\n",
       "      <td>2</td>\n",
       "      <td>32.64%</td>\n",
       "    </tr>\n",
       "    <tr>\n",
       "      <td>for_e</td>\n",
       "      <td>EX_for_e</td>\n",
       "      <td>-18.23</td>\n",
       "      <td>1</td>\n",
       "      <td>34.01%</td>\n",
       "    </tr>\n",
       "    <tr>\n",
       "      <td>h_e</td>\n",
       "      <td>EX_h_e</td>\n",
       "      <td>-28.61</td>\n",
       "      <td>0</td>\n",
       "      <td>0.00%</td>\n",
       "    </tr>\n",
       "    <tr>\n",
       "      <td>meoh_e</td>\n",
       "      <td>EX_meoh_e</td>\n",
       "      <td>-3.151E-07</td>\n",
       "      <td>1</td>\n",
       "      <td>0.00%</td>\n",
       "    </tr>\n",
       "    <tr>\n",
       "      <td>succ_e</td>\n",
       "      <td>EX_succ_e</td>\n",
       "      <td>-0.05256</td>\n",
       "      <td>4</td>\n",
       "      <td>0.39%</td>\n",
       "    </tr>\n",
       "  </tbody>\n",
       "</table>"
      ],
      "text/plain": [
       "<cobra.summary.model_summary.ModelSummary at 0x72be16c79d90>"
      ]
     },
     "execution_count": 39,
     "metadata": {},
     "output_type": "execute_result"
    }
   ],
   "source": [
    "no_O2 = model.reactions.get_by_id(\"EX_o2_e\")\n",
    "no_O2.bounds = (0, 1000)\n",
    "model.summary()"
   ]
  },
  {
   "cell_type": "code",
   "execution_count": 43,
   "id": "91927d7e",
   "metadata": {},
   "outputs": [
    {
     "data": {
      "text/html": [
       "\n",
       "        <table>\n",
       "            <tr>\n",
       "                <td><strong>Metabolite identifier</strong></td><td>glc__D_e</td>\n",
       "            </tr><tr>\n",
       "                <td><strong>Name</strong></td><td>D-Glucose</td>\n",
       "            </tr><tr>\n",
       "                <td><strong>Memory address</strong></td>\n",
       "                <td>0x72be16d1b3b0</td>\n",
       "            </tr><tr>\n",
       "                <td><strong>Formula</strong></td><td>C6H12O6</td>\n",
       "            </tr><tr>\n",
       "                <td><strong>Compartment</strong></td><td>e</td>\n",
       "            </tr><tr>\n",
       "                <td><strong>In 3 reaction(s)</strong></td><td>\n",
       "                    EX_glc__D_e, GLCtex_copy2, GLCtex_copy1\n",
       "                    </td>\n",
       "            </tr>\n",
       "        </table>"
      ],
      "text/plain": [
       "<Metabolite glc__D_e at 0x72be16d1b3b0>"
      ]
     },
     "execution_count": 43,
     "metadata": {},
     "output_type": "execute_result"
    }
   ],
   "source": [
    "model.metabolites.get_by_id(\"glc__D_e\")"
   ]
  },
  {
   "cell_type": "code",
   "execution_count": 46,
   "id": "5e87d411",
   "metadata": {},
   "outputs": [
    {
     "data": {
      "text/html": [
       "\n",
       "        <table>\n",
       "            <tr>\n",
       "                <td><strong>Reaction identifier</strong></td><td>GLCtex_copy1</td>\n",
       "            </tr><tr>\n",
       "                <td><strong>Name</strong></td><td>Glucose transport via diffusion (extracellular to periplasm)</td>\n",
       "            </tr><tr>\n",
       "                <td><strong>Memory address</strong></td>\n",
       "                <td>0x72be07f5b2c0</td>\n",
       "            </tr><tr>\n",
       "                <td><strong>Stoichiometry</strong></td>\n",
       "                <td>\n",
       "                    <p style='text-align:right'>glc__D_e --> glc__D_p</p>\n",
       "                    <p style='text-align:right'>D-Glucose --> D-Glucose</p>\n",
       "                </td>\n",
       "            </tr><tr>\n",
       "                <td><strong>GPR</strong></td><td>b4036</td>\n",
       "            </tr><tr>\n",
       "                <td><strong>Lower bound</strong></td><td>0.0</td>\n",
       "            </tr><tr>\n",
       "                <td><strong>Upper bound</strong></td><td>1000.0</td>\n",
       "            </tr>\n",
       "        </table>\n",
       "        "
      ],
      "text/plain": [
       "<Reaction GLCtex_copy1 at 0x72be07f5b2c0>"
      ]
     },
     "execution_count": 46,
     "metadata": {},
     "output_type": "execute_result"
    }
   ],
   "source": [
    "model.reactions.get_by_id(\"GLCtex_copy1\")"
   ]
  },
  {
   "cell_type": "code",
   "execution_count": 59,
   "id": "b16d170f",
   "metadata": {},
   "outputs": [
    {
     "data": {
      "text/html": [
       "\n",
       "        <table>\n",
       "            <tr>\n",
       "                <td><strong>Metabolite identifier</strong></td><td>atp_c</td>\n",
       "            </tr><tr>\n",
       "                <td><strong>Name</strong></td><td>ATP C10H12N5O13P3</td>\n",
       "            </tr><tr>\n",
       "                <td><strong>Memory address</strong></td>\n",
       "                <td>0x72be06945d60</td>\n",
       "            </tr><tr>\n",
       "                <td><strong>Formula</strong></td><td>C10H12N5O13P3</td>\n",
       "            </tr><tr>\n",
       "                <td><strong>Compartment</strong></td><td>c</td>\n",
       "            </tr><tr>\n",
       "                <td><strong>In 349 reaction(s)</strong></td><td>\n",
       "                    ACCOAL, MEPNabcpp, GMHEPAT, RBK, ACKr, PYDAMK, GDPDPK, CYTK2, DADK, ADOCBIK, AACPS1, SUCOAS, AACPS3, CU2abcpp, S2FE2SR, GLUTRS, PG140abcpp, GLYCK, COBALT2abcpp, XYLK2, PYK, DAGK140, GLYK, GLUabcpp,...\n",
       "                    </td>\n",
       "            </tr>\n",
       "        </table>"
      ],
      "text/plain": [
       "<Metabolite atp_c at 0x72be06945d60>"
      ]
     },
     "execution_count": 59,
     "metadata": {},
     "output_type": "execute_result"
    }
   ],
   "source": [
    "model.metabolites.get_by_id(\"atp_c\")"
   ]
  },
  {
   "cell_type": "code",
   "execution_count": 75,
   "id": "01ab94ed",
   "metadata": {},
   "outputs": [
    {
     "data": {
      "text/html": [
       "\n",
       "        <table>\n",
       "            <tr>\n",
       "                <td><strong>Reaction identifier</strong></td><td>PYK</td>\n",
       "            </tr><tr>\n",
       "                <td><strong>Name</strong></td><td>Pyruvate kinase</td>\n",
       "            </tr><tr>\n",
       "                <td><strong>Memory address</strong></td>\n",
       "                <td>0x72be05438770</td>\n",
       "            </tr><tr>\n",
       "                <td><strong>Stoichiometry</strong></td>\n",
       "                <td>\n",
       "                    <p style='text-align:right'>adp_c + h_c + pep_c --> atp_c + pyr_c</p>\n",
       "                    <p style='text-align:right'>ADP C10H12N5O10P2 + H+ + Phosphoenolpyruvate --> ATP C10H12N5O13P3 + Pyruvate</p>\n",
       "                </td>\n",
       "            </tr><tr>\n",
       "                <td><strong>GPR</strong></td><td>b1854 or b1676</td>\n",
       "            </tr><tr>\n",
       "                <td><strong>Lower bound</strong></td><td>0.0</td>\n",
       "            </tr><tr>\n",
       "                <td><strong>Upper bound</strong></td><td>1000.0</td>\n",
       "            </tr>\n",
       "        </table>\n",
       "        "
      ],
      "text/plain": [
       "<Reaction PYK at 0x72be05438770>"
      ]
     },
     "execution_count": 75,
     "metadata": {},
     "output_type": "execute_result"
    }
   ],
   "source": [
    "model.reactions.get_by_id(\"PYK\")"
   ]
  },
  {
   "cell_type": "code",
   "execution_count": null,
   "id": "53dd9335",
   "metadata": {},
   "outputs": [
    {
     "name": "stdout",
     "output_type": "stream",
     "text": [
      "Regular model: 0.87699721425716\n"
     ]
    }
   ],
   "source": [
    "print(f\"Regular model: {model.optimize().objective_value}\")\n",
    "\n",
    "with model:\n",
    "    double = double_reaction_deletion(model)\n",
    "    pyk = model.reactions.PYK\n",
    "    pyk2 = model.reactions.PYK2\n",
    "    pyk3 = model.reactions.PYK3\n",
    "    pyk4 = model.reactions.PYK4\n",
    "    pyk6 = model.reactions.PYK6\n",
    "    \n",
    "    #print(double.knockout[{pyk, pyk2}, {pyk, pyk3}])\n"
   ]
  },
  {
   "cell_type": "code",
   "execution_count": 10,
   "id": "64adb74a",
   "metadata": {},
   "outputs": [
    {
     "name": "stdout",
     "output_type": "stream",
     "text": [
      "                                 minimum   maximum\n",
      "BIOMASS_Ec_iML1515_core_75p37M  0.876997  0.876997 \n",
      " 0.8769972144269519\n"
     ]
    }
   ],
   "source": [
    "a = flux_variability_analysis(model, model.reactions.BIOMASS_Ec_iML1515_core_75p37M, loopless=True)\n",
    "\n",
    "b =model.optimize().objective_value\n",
    "\n",
    "print(f\"{a} \\n {b}\")"
   ]
  },
  {
   "cell_type": "code",
   "execution_count": 17,
   "id": "4738cd9b",
   "metadata": {},
   "outputs": [
    {
     "data": {
      "text/html": [
       "<h3>ATPS4rpp</h3><p>adp_c + 4.0 h_p + pi_c <=> atp_c + h2o_c + 3.0 h_c</p><p>Bounds: -1000.0, 1000.0</p><p>Flux: 70.43</p>"
      ],
      "text/plain": [
       "<cobra.summary.reaction_summary.ReactionSummary at 0x717fe258ecf0>"
      ]
     },
     "execution_count": 17,
     "metadata": {},
     "output_type": "execute_result"
    }
   ],
   "source": [
    "model.reactions.ATPS4rpp.summary()"
   ]
  },
  {
   "cell_type": "code",
   "execution_count": 30,
   "id": "04c1e2a2",
   "metadata": {},
   "outputs": [
    {
     "data": {
      "text/html": [
       "<h3>GAPD</h3><p>g3p_c + nad_c + pi_c <=> 13dpg_c + h_c + nadh_c</p><p>Bounds: -1000.0, 1000.0</p><p>Flux: 17.11</p>"
      ],
      "text/plain": [
       "<cobra.summary.reaction_summary.ReactionSummary at 0x717f9ce6ede0>"
      ]
     },
     "execution_count": 30,
     "metadata": {},
     "output_type": "execute_result"
    }
   ],
   "source": [
    "model.reactions.GAPD.summary()"
   ]
  },
  {
   "cell_type": "code",
   "execution_count": 36,
   "id": "e22d48b9",
   "metadata": {},
   "outputs": [
    {
     "data": {
      "text/html": [
       "\n",
       "        <table>\n",
       "            <tr>\n",
       "                <td><strong>Reaction identifier</strong></td><td>ATPS4rpp</td>\n",
       "            </tr><tr>\n",
       "                <td><strong>Name</strong></td><td>ATP synthase (four protons for one ATP) (periplasm)</td>\n",
       "            </tr><tr>\n",
       "                <td><strong>Memory address</strong></td>\n",
       "                <td>0x717fb4565520</td>\n",
       "            </tr><tr>\n",
       "                <td><strong>Stoichiometry</strong></td>\n",
       "                <td>\n",
       "                    <p style='text-align:right'>adp_c + 4.0 h_p + pi_c <=> atp_c + h2o_c + 3.0 h_c</p>\n",
       "                    <p style='text-align:right'>ADP C10H12N5O10P2 + 4.0 H+ + Phosphate <=> ATP C10H12N5O13P3 + H2O H2O + 3.0 H+</p>\n",
       "                </td>\n",
       "            </tr><tr>\n",
       "                <td><strong>GPR</strong></td><td>(b3739 and (b3731 and b3733 and b3735 and b3734 and b3732) and (b3738 and b3736 and b3737)) or...</td>\n",
       "            </tr><tr>\n",
       "                <td><strong>Lower bound</strong></td><td>-1000.0</td>\n",
       "            </tr><tr>\n",
       "                <td><strong>Upper bound</strong></td><td>1000.0</td>\n",
       "            </tr>\n",
       "        </table>\n",
       "        "
      ],
      "text/plain": [
       "<Reaction ATPS4rpp at 0x717fb4565520>"
      ]
     },
     "execution_count": 36,
     "metadata": {},
     "output_type": "execute_result"
    }
   ],
   "source": [
    "model.reactions.get_by_id(\"ATPS4rpp\")"
   ]
  },
  {
   "cell_type": "code",
   "execution_count": 31,
   "id": "2c94c7c6",
   "metadata": {},
   "outputs": [
    {
     "ename": "KeyError",
     "evalue": "'PYK'",
     "output_type": "error",
     "traceback": [
      "\u001b[31m---------------------------------------------------------------------------\u001b[39m",
      "\u001b[31mKeyError\u001b[39m                                  Traceback (most recent call last)",
      "\u001b[36mFile \u001b[39m\u001b[32m~/Documents/CobraPy/.venv/lib/python3.12/site-packages/pandas/core/indexes/base.py:3812\u001b[39m, in \u001b[36mIndex.get_loc\u001b[39m\u001b[34m(self, key)\u001b[39m\n\u001b[32m   3811\u001b[39m \u001b[38;5;28;01mtry\u001b[39;00m:\n\u001b[32m-> \u001b[39m\u001b[32m3812\u001b[39m     \u001b[38;5;28;01mreturn\u001b[39;00m \u001b[38;5;28;43mself\u001b[39;49m\u001b[43m.\u001b[49m\u001b[43m_engine\u001b[49m\u001b[43m.\u001b[49m\u001b[43mget_loc\u001b[49m\u001b[43m(\u001b[49m\u001b[43mcasted_key\u001b[49m\u001b[43m)\u001b[49m\n\u001b[32m   3813\u001b[39m \u001b[38;5;28;01mexcept\u001b[39;00m \u001b[38;5;167;01mKeyError\u001b[39;00m \u001b[38;5;28;01mas\u001b[39;00m err:\n",
      "\u001b[36mFile \u001b[39m\u001b[32mpandas/_libs/index.pyx:167\u001b[39m, in \u001b[36mpandas._libs.index.IndexEngine.get_loc\u001b[39m\u001b[34m()\u001b[39m\n",
      "\u001b[36mFile \u001b[39m\u001b[32mpandas/_libs/index.pyx:196\u001b[39m, in \u001b[36mpandas._libs.index.IndexEngine.get_loc\u001b[39m\u001b[34m()\u001b[39m\n",
      "\u001b[36mFile \u001b[39m\u001b[32mpandas/_libs/hashtable_class_helper.pxi:7088\u001b[39m, in \u001b[36mpandas._libs.hashtable.PyObjectHashTable.get_item\u001b[39m\u001b[34m()\u001b[39m\n",
      "\u001b[36mFile \u001b[39m\u001b[32mpandas/_libs/hashtable_class_helper.pxi:7096\u001b[39m, in \u001b[36mpandas._libs.hashtable.PyObjectHashTable.get_item\u001b[39m\u001b[34m()\u001b[39m\n",
      "\u001b[31mKeyError\u001b[39m: 'PYK'",
      "\nThe above exception was the direct cause of the following exception:\n",
      "\u001b[31mKeyError\u001b[39m                                  Traceback (most recent call last)",
      "\u001b[36mFile \u001b[39m\u001b[32m~/Documents/CobraPy/.venv/lib/python3.12/site-packages/IPython/core/formatters.py:406\u001b[39m, in \u001b[36mBaseFormatter.__call__\u001b[39m\u001b[34m(self, obj)\u001b[39m\n\u001b[32m    404\u001b[39m     method = get_real_method(obj, \u001b[38;5;28mself\u001b[39m.print_method)\n\u001b[32m    405\u001b[39m     \u001b[38;5;28;01mif\u001b[39;00m method \u001b[38;5;129;01mis\u001b[39;00m \u001b[38;5;129;01mnot\u001b[39;00m \u001b[38;5;28;01mNone\u001b[39;00m:\n\u001b[32m--> \u001b[39m\u001b[32m406\u001b[39m         \u001b[38;5;28;01mreturn\u001b[39;00m \u001b[43mmethod\u001b[49m\u001b[43m(\u001b[49m\u001b[43m)\u001b[49m\n\u001b[32m    407\u001b[39m     \u001b[38;5;28;01mreturn\u001b[39;00m \u001b[38;5;28;01mNone\u001b[39;00m\n\u001b[32m    408\u001b[39m \u001b[38;5;28;01melse\u001b[39;00m:\n",
      "\u001b[36mFile \u001b[39m\u001b[32m~/Documents/CobraPy/.venv/lib/python3.12/site-packages/cobra/summary/summary.py:78\u001b[39m, in \u001b[36mSummary._repr_html_\u001b[39m\u001b[34m(self)\u001b[39m\n\u001b[32m     76\u001b[39m \u001b[38;5;28;01mdef\u001b[39;00m\u001b[38;5;250m \u001b[39m\u001b[34m_repr_html_\u001b[39m(\u001b[38;5;28mself\u001b[39m) -> \u001b[38;5;28mstr\u001b[39m:\n\u001b[32m     77\u001b[39m \u001b[38;5;250m    \u001b[39m\u001b[33;03m\"\"\"Return a rich HTML representation of the summary.\"\"\"\u001b[39;00m\n\u001b[32m---> \u001b[39m\u001b[32m78\u001b[39m     \u001b[38;5;28;01mreturn\u001b[39;00m \u001b[38;5;28;43mself\u001b[39;49m\u001b[43m.\u001b[49m\u001b[43mto_html\u001b[49m\u001b[43m(\u001b[49m\u001b[43m)\u001b[49m\n",
      "\u001b[36mFile \u001b[39m\u001b[32m~/Documents/CobraPy/.venv/lib/python3.12/site-packages/cobra/summary/reaction_summary.py:241\u001b[39m, in \u001b[36mReactionSummary.to_html\u001b[39m\u001b[34m(self, names, threshold, float_format)\u001b[39m\n\u001b[32m    238\u001b[39m \u001b[38;5;28;01melse\u001b[39;00m:\n\u001b[32m    239\u001b[39m     header = \u001b[38;5;28mself\u001b[39m._reaction.id\n\u001b[32m--> \u001b[39m\u001b[32m241\u001b[39m flux = \u001b[38;5;28;43mself\u001b[39;49m\u001b[43m.\u001b[49m\u001b[43m_string_flux\u001b[49m\u001b[43m(\u001b[49m\u001b[43mthreshold\u001b[49m\u001b[43m,\u001b[49m\u001b[43m \u001b[49m\u001b[43mfloat_format\u001b[49m\u001b[43m)\u001b[49m\n\u001b[32m    243\u001b[39m \u001b[38;5;28;01mreturn\u001b[39;00m (\n\u001b[32m    244\u001b[39m     \u001b[33mf\u001b[39m\u001b[33m\"\u001b[39m\u001b[33m<h3>\u001b[39m\u001b[38;5;132;01m{\u001b[39;00mheader\u001b[38;5;132;01m}\u001b[39;00m\u001b[33m</h3>\u001b[39m\u001b[33m\"\u001b[39m\n\u001b[32m    245\u001b[39m     \u001b[33mf\u001b[39m\u001b[33m\"\u001b[39m\u001b[33m<p>\u001b[39m\u001b[38;5;132;01m{\u001b[39;00m\u001b[38;5;28mself\u001b[39m._reaction.build_reaction_string(use_metabolite_names=names)\u001b[38;5;132;01m}\u001b[39;00m\u001b[33m</p>\u001b[39m\u001b[33m\"\u001b[39m\n\u001b[32m    246\u001b[39m     \u001b[33mf\u001b[39m\u001b[33m\"\u001b[39m\u001b[33m<p>Bounds: \u001b[39m\u001b[38;5;132;01m{\u001b[39;00m\u001b[38;5;28mself\u001b[39m._reaction.lower_bound\u001b[38;5;132;01m}\u001b[39;00m\u001b[33m, \u001b[39m\u001b[38;5;132;01m{\u001b[39;00m\u001b[38;5;28mself\u001b[39m._reaction.upper_bound\u001b[38;5;132;01m}\u001b[39;00m\u001b[33m</p>\u001b[39m\u001b[33m\"\u001b[39m\n\u001b[32m    247\u001b[39m     \u001b[33mf\u001b[39m\u001b[33m\"\u001b[39m\u001b[33m<p>Flux: \u001b[39m\u001b[38;5;132;01m{\u001b[39;00mflux\u001b[38;5;132;01m}\u001b[39;00m\u001b[33m</p>\u001b[39m\u001b[33m\"\u001b[39m\n\u001b[32m    248\u001b[39m )\n",
      "\u001b[36mFile \u001b[39m\u001b[32m~/Documents/CobraPy/.venv/lib/python3.12/site-packages/cobra/summary/reaction_summary.py:158\u001b[39m, in \u001b[36mReactionSummary._string_flux\u001b[39m\u001b[34m(self, threshold, float_format)\u001b[39m\n\u001b[32m    156\u001b[39m \u001b[38;5;28;01melse\u001b[39;00m:\n\u001b[32m    157\u001b[39m     frame = \u001b[38;5;28mself\u001b[39m._flux.loc[\u001b[38;5;28mself\u001b[39m._flux[\u001b[33m\"\u001b[39m\u001b[33mflux\u001b[39m\u001b[33m\"\u001b[39m].abs() >= threshold, :].copy()\n\u001b[32m--> \u001b[39m\u001b[32m158\u001b[39m     \u001b[38;5;28;01mreturn\u001b[39;00m \u001b[33mf\u001b[39m\u001b[33m\"\u001b[39m\u001b[38;5;132;01m{\u001b[39;00m\u001b[43mframe\u001b[49m\u001b[43m.\u001b[49m\u001b[43mat\u001b[49m\u001b[43m[\u001b[49m\u001b[38;5;28;43mself\u001b[39;49m\u001b[43m.\u001b[49m\u001b[43m_reaction\u001b[49m\u001b[43m.\u001b[49m\u001b[43mid\u001b[49m\u001b[43m,\u001b[49m\u001b[38;5;250;43m \u001b[39;49m\u001b[33;43m'\u001b[39;49m\u001b[33;43mflux\u001b[39;49m\u001b[33;43m'\u001b[39;49m\u001b[43m]\u001b[49m\u001b[38;5;132;01m:\u001b[39;00m\u001b[38;5;132;01m{\u001b[39;00mfloat_format\u001b[38;5;132;01m}\u001b[39;00m\u001b[38;5;132;01m}\u001b[39;00m\u001b[33m\"\u001b[39m\n",
      "\u001b[36mFile \u001b[39m\u001b[32m~/Documents/CobraPy/.venv/lib/python3.12/site-packages/pandas/core/indexing.py:2575\u001b[39m, in \u001b[36m_AtIndexer.__getitem__\u001b[39m\u001b[34m(self, key)\u001b[39m\n\u001b[32m   2572\u001b[39m         \u001b[38;5;28;01mraise\u001b[39;00m \u001b[38;5;167;01mValueError\u001b[39;00m(\u001b[33m\"\u001b[39m\u001b[33mInvalid call for scalar access (getting)!\u001b[39m\u001b[33m\"\u001b[39m)\n\u001b[32m   2573\u001b[39m     \u001b[38;5;28;01mreturn\u001b[39;00m \u001b[38;5;28mself\u001b[39m.obj.loc[key]\n\u001b[32m-> \u001b[39m\u001b[32m2575\u001b[39m \u001b[38;5;28;01mreturn\u001b[39;00m \u001b[38;5;28;43msuper\u001b[39;49m\u001b[43m(\u001b[49m\u001b[43m)\u001b[49m\u001b[43m.\u001b[49m\u001b[34;43m__getitem__\u001b[39;49m\u001b[43m(\u001b[49m\u001b[43mkey\u001b[49m\u001b[43m)\u001b[49m\n",
      "\u001b[36mFile \u001b[39m\u001b[32m~/Documents/CobraPy/.venv/lib/python3.12/site-packages/pandas/core/indexing.py:2527\u001b[39m, in \u001b[36m_ScalarAccessIndexer.__getitem__\u001b[39m\u001b[34m(self, key)\u001b[39m\n\u001b[32m   2524\u001b[39m         \u001b[38;5;28;01mraise\u001b[39;00m \u001b[38;5;167;01mValueError\u001b[39;00m(\u001b[33m\"\u001b[39m\u001b[33mInvalid call for scalar access (getting)!\u001b[39m\u001b[33m\"\u001b[39m)\n\u001b[32m   2526\u001b[39m key = \u001b[38;5;28mself\u001b[39m._convert_key(key)\n\u001b[32m-> \u001b[39m\u001b[32m2527\u001b[39m \u001b[38;5;28;01mreturn\u001b[39;00m \u001b[38;5;28;43mself\u001b[39;49m\u001b[43m.\u001b[49m\u001b[43mobj\u001b[49m\u001b[43m.\u001b[49m\u001b[43m_get_value\u001b[49m\u001b[43m(\u001b[49m\u001b[43m*\u001b[49m\u001b[43mkey\u001b[49m\u001b[43m,\u001b[49m\u001b[43m \u001b[49m\u001b[43mtakeable\u001b[49m\u001b[43m=\u001b[49m\u001b[38;5;28;43mself\u001b[39;49m\u001b[43m.\u001b[49m\u001b[43m_takeable\u001b[49m\u001b[43m)\u001b[49m\n",
      "\u001b[36mFile \u001b[39m\u001b[32m~/Documents/CobraPy/.venv/lib/python3.12/site-packages/pandas/core/frame.py:4226\u001b[39m, in \u001b[36mDataFrame._get_value\u001b[39m\u001b[34m(self, index, col, takeable)\u001b[39m\n\u001b[32m   4220\u001b[39m engine = \u001b[38;5;28mself\u001b[39m.index._engine\n\u001b[32m   4222\u001b[39m \u001b[38;5;28;01mif\u001b[39;00m \u001b[38;5;129;01mnot\u001b[39;00m \u001b[38;5;28misinstance\u001b[39m(\u001b[38;5;28mself\u001b[39m.index, MultiIndex):\n\u001b[32m   4223\u001b[39m     \u001b[38;5;66;03m# CategoricalIndex: Trying to use the engine fastpath may give incorrect\u001b[39;00m\n\u001b[32m   4224\u001b[39m     \u001b[38;5;66;03m#  results if our categories are integers that dont match our codes\u001b[39;00m\n\u001b[32m   4225\u001b[39m     \u001b[38;5;66;03m# IntervalIndex: IntervalTree has no get_loc\u001b[39;00m\n\u001b[32m-> \u001b[39m\u001b[32m4226\u001b[39m     row = \u001b[38;5;28;43mself\u001b[39;49m\u001b[43m.\u001b[49m\u001b[43mindex\u001b[49m\u001b[43m.\u001b[49m\u001b[43mget_loc\u001b[49m\u001b[43m(\u001b[49m\u001b[43mindex\u001b[49m\u001b[43m)\u001b[49m\n\u001b[32m   4227\u001b[39m     \u001b[38;5;28;01mreturn\u001b[39;00m series._values[row]\n\u001b[32m   4229\u001b[39m \u001b[38;5;66;03m# For MultiIndex going through engine effectively restricts us to\u001b[39;00m\n\u001b[32m   4230\u001b[39m \u001b[38;5;66;03m#  same-length tuples; see test_get_set_value_no_partial_indexing\u001b[39;00m\n",
      "\u001b[36mFile \u001b[39m\u001b[32m~/Documents/CobraPy/.venv/lib/python3.12/site-packages/pandas/core/indexes/base.py:3819\u001b[39m, in \u001b[36mIndex.get_loc\u001b[39m\u001b[34m(self, key)\u001b[39m\n\u001b[32m   3814\u001b[39m     \u001b[38;5;28;01mif\u001b[39;00m \u001b[38;5;28misinstance\u001b[39m(casted_key, \u001b[38;5;28mslice\u001b[39m) \u001b[38;5;129;01mor\u001b[39;00m (\n\u001b[32m   3815\u001b[39m         \u001b[38;5;28misinstance\u001b[39m(casted_key, abc.Iterable)\n\u001b[32m   3816\u001b[39m         \u001b[38;5;129;01mand\u001b[39;00m \u001b[38;5;28many\u001b[39m(\u001b[38;5;28misinstance\u001b[39m(x, \u001b[38;5;28mslice\u001b[39m) \u001b[38;5;28;01mfor\u001b[39;00m x \u001b[38;5;129;01min\u001b[39;00m casted_key)\n\u001b[32m   3817\u001b[39m     ):\n\u001b[32m   3818\u001b[39m         \u001b[38;5;28;01mraise\u001b[39;00m InvalidIndexError(key)\n\u001b[32m-> \u001b[39m\u001b[32m3819\u001b[39m     \u001b[38;5;28;01mraise\u001b[39;00m \u001b[38;5;167;01mKeyError\u001b[39;00m(key) \u001b[38;5;28;01mfrom\u001b[39;00m\u001b[38;5;250m \u001b[39m\u001b[34;01merr\u001b[39;00m\n\u001b[32m   3820\u001b[39m \u001b[38;5;28;01mexcept\u001b[39;00m \u001b[38;5;167;01mTypeError\u001b[39;00m:\n\u001b[32m   3821\u001b[39m     \u001b[38;5;66;03m# If we have a listlike key, _check_indexing_error will raise\u001b[39;00m\n\u001b[32m   3822\u001b[39m     \u001b[38;5;66;03m#  InvalidIndexError. Otherwise we fall through and re-raise\u001b[39;00m\n\u001b[32m   3823\u001b[39m     \u001b[38;5;66;03m#  the TypeError.\u001b[39;00m\n\u001b[32m   3824\u001b[39m     \u001b[38;5;28mself\u001b[39m._check_indexing_error(key)\n",
      "\u001b[31mKeyError\u001b[39m: 'PYK'"
     ]
    },
    {
     "data": {
      "text/plain": [
       "<cobra.summary.reaction_summary.ReactionSummary at 0x717f9e7bb380>"
      ]
     },
     "execution_count": 31,
     "metadata": {},
     "output_type": "execute_result"
    }
   ],
   "source": [
    "model.reactions.PYK.summary()"
   ]
  },
  {
   "cell_type": "code",
   "execution_count": 32,
   "id": "e3c8fb6f",
   "metadata": {},
   "outputs": [
    {
     "data": {
      "text/html": [
       "<div>\n",
       "<style scoped>\n",
       "    .dataframe tbody tr th:only-of-type {\n",
       "        vertical-align: middle;\n",
       "    }\n",
       "\n",
       "    .dataframe tbody tr th {\n",
       "        vertical-align: top;\n",
       "    }\n",
       "\n",
       "    .dataframe thead th {\n",
       "        text-align: right;\n",
       "    }\n",
       "</style>\n",
       "<table border=\"1\" class=\"dataframe\">\n",
       "  <thead>\n",
       "    <tr style=\"text-align: right;\">\n",
       "      <th></th>\n",
       "      <th>minimum</th>\n",
       "      <th>maximum</th>\n",
       "    </tr>\n",
       "  </thead>\n",
       "  <tbody>\n",
       "    <tr>\n",
       "      <th>CYTDK2</th>\n",
       "      <td>0.000000e+00</td>\n",
       "      <td>7.855203e-12</td>\n",
       "    </tr>\n",
       "    <tr>\n",
       "      <th>XPPT</th>\n",
       "      <td>0.000000e+00</td>\n",
       "      <td>-4.867378e-13</td>\n",
       "    </tr>\n",
       "    <tr>\n",
       "      <th>HXPRT</th>\n",
       "      <td>0.000000e+00</td>\n",
       "      <td>-3.984339e-13</td>\n",
       "    </tr>\n",
       "    <tr>\n",
       "      <th>NDPK5</th>\n",
       "      <td>-2.294751e-02</td>\n",
       "      <td>3.142081e-11</td>\n",
       "    </tr>\n",
       "    <tr>\n",
       "      <th>SHK3Dr</th>\n",
       "      <td>3.342403e-01</td>\n",
       "      <td>3.342403e-01</td>\n",
       "    </tr>\n",
       "    <tr>\n",
       "      <th>NDPK6</th>\n",
       "      <td>0.000000e+00</td>\n",
       "      <td>4.503482e-12</td>\n",
       "    </tr>\n",
       "    <tr>\n",
       "      <th>NDPK8</th>\n",
       "      <td>-2.294751e-02</td>\n",
       "      <td>3.142081e-11</td>\n",
       "    </tr>\n",
       "    <tr>\n",
       "      <th>DHORTS</th>\n",
       "      <td>-2.901063e-01</td>\n",
       "      <td>-2.901063e-01</td>\n",
       "    </tr>\n",
       "    <tr>\n",
       "      <th>OMPDC</th>\n",
       "      <td>2.901063e-01</td>\n",
       "      <td>2.901063e-01</td>\n",
       "    </tr>\n",
       "    <tr>\n",
       "      <th>PYNP2r</th>\n",
       "      <td>-3.859758e-12</td>\n",
       "      <td>2.294751e-02</td>\n",
       "    </tr>\n",
       "  </tbody>\n",
       "</table>\n",
       "</div>"
      ],
      "text/plain": [
       "             minimum       maximum\n",
       "CYTDK2  0.000000e+00  7.855203e-12\n",
       "XPPT    0.000000e+00 -4.867378e-13\n",
       "HXPRT   0.000000e+00 -3.984339e-13\n",
       "NDPK5  -2.294751e-02  3.142081e-11\n",
       "SHK3Dr  3.342403e-01  3.342403e-01\n",
       "NDPK6   0.000000e+00  4.503482e-12\n",
       "NDPK8  -2.294751e-02  3.142081e-11\n",
       "DHORTS -2.901063e-01 -2.901063e-01\n",
       "OMPDC   2.901063e-01  2.901063e-01\n",
       "PYNP2r -3.859758e-12  2.294751e-02"
      ]
     },
     "execution_count": 32,
     "metadata": {},
     "output_type": "execute_result"
    }
   ],
   "source": [
    "flux_variability_analysis(\n",
    "    model,\n",
    "    model.reactions[:10]\n",
    ")"
   ]
  },
  {
   "cell_type": "code",
   "execution_count": 33,
   "id": "b0e681c3",
   "metadata": {},
   "outputs": [
    {
     "data": {
      "text/html": [
       "<div>\n",
       "<style scoped>\n",
       "    .dataframe tbody tr th:only-of-type {\n",
       "        vertical-align: middle;\n",
       "    }\n",
       "\n",
       "    .dataframe tbody tr th {\n",
       "        vertical-align: top;\n",
       "    }\n",
       "\n",
       "    .dataframe thead th {\n",
       "        text-align: right;\n",
       "    }\n",
       "</style>\n",
       "<table border=\"1\" class=\"dataframe\">\n",
       "  <thead>\n",
       "    <tr style=\"text-align: right;\">\n",
       "      <th></th>\n",
       "      <th>minimum</th>\n",
       "      <th>maximum</th>\n",
       "    </tr>\n",
       "  </thead>\n",
       "  <tbody>\n",
       "    <tr>\n",
       "      <th>CYTDK2</th>\n",
       "      <td>0.000000e+00</td>\n",
       "      <td>4.127310e-12</td>\n",
       "    </tr>\n",
       "    <tr>\n",
       "      <th>XPPT</th>\n",
       "      <td>0.000000e+00</td>\n",
       "      <td>-1.246824e-12</td>\n",
       "    </tr>\n",
       "    <tr>\n",
       "      <th>HXPRT</th>\n",
       "      <td>0.000000e+00</td>\n",
       "      <td>-6.340916e-12</td>\n",
       "    </tr>\n",
       "    <tr>\n",
       "      <th>NDPK5</th>\n",
       "      <td>-2.294751e-02</td>\n",
       "      <td>1.650924e-11</td>\n",
       "    </tr>\n",
       "    <tr>\n",
       "      <th>SHK3Dr</th>\n",
       "      <td>3.342403e-01</td>\n",
       "      <td>3.342403e-01</td>\n",
       "    </tr>\n",
       "    <tr>\n",
       "      <th>NDPK6</th>\n",
       "      <td>-7.446444e-15</td>\n",
       "      <td>-1.920548e-11</td>\n",
       "    </tr>\n",
       "    <tr>\n",
       "      <th>NDPK8</th>\n",
       "      <td>-2.294751e-02</td>\n",
       "      <td>1.650924e-11</td>\n",
       "    </tr>\n",
       "    <tr>\n",
       "      <th>DHORTS</th>\n",
       "      <td>-2.901063e-01</td>\n",
       "      <td>-2.901063e-01</td>\n",
       "    </tr>\n",
       "    <tr>\n",
       "      <th>OMPDC</th>\n",
       "      <td>2.901063e-01</td>\n",
       "      <td>2.901063e-01</td>\n",
       "    </tr>\n",
       "    <tr>\n",
       "      <th>PYNP2r</th>\n",
       "      <td>6.910261e-12</td>\n",
       "      <td>2.294751e-02</td>\n",
       "    </tr>\n",
       "  </tbody>\n",
       "</table>\n",
       "</div>"
      ],
      "text/plain": [
       "             minimum       maximum\n",
       "CYTDK2  0.000000e+00  4.127310e-12\n",
       "XPPT    0.000000e+00 -1.246824e-12\n",
       "HXPRT   0.000000e+00 -6.340916e-12\n",
       "NDPK5  -2.294751e-02  1.650924e-11\n",
       "SHK3Dr  3.342403e-01  3.342403e-01\n",
       "NDPK6  -7.446444e-15 -1.920548e-11\n",
       "NDPK8  -2.294751e-02  1.650924e-11\n",
       "DHORTS -2.901063e-01 -2.901063e-01\n",
       "OMPDC   2.901063e-01  2.901063e-01\n",
       "PYNP2r  6.910261e-12  2.294751e-02"
      ]
     },
     "execution_count": 33,
     "metadata": {},
     "output_type": "execute_result"
    }
   ],
   "source": [
    "flux_variability_analysis(\n",
    "    model,\n",
    "    model.reactions[:10],\n",
    "    loopless=True\n",
    ")"
   ]
  },
  {
   "cell_type": "code",
   "execution_count": 15,
   "id": "7fdd676b",
   "metadata": {},
   "outputs": [
    {
     "data": {
      "text/html": [
       "<div>\n",
       "<style scoped>\n",
       "    .dataframe tbody tr th:only-of-type {\n",
       "        vertical-align: middle;\n",
       "    }\n",
       "\n",
       "    .dataframe tbody tr th {\n",
       "        vertical-align: top;\n",
       "    }\n",
       "\n",
       "    .dataframe thead th {\n",
       "        text-align: right;\n",
       "    }\n",
       "</style>\n",
       "<table border=\"1\" class=\"dataframe\">\n",
       "  <thead>\n",
       "    <tr style=\"text-align: right;\">\n",
       "      <th></th>\n",
       "      <th>minimum</th>\n",
       "      <th>maximum</th>\n",
       "    </tr>\n",
       "  </thead>\n",
       "  <tbody>\n",
       "    <tr>\n",
       "      <th>ATPS4rpp</th>\n",
       "      <td>70.432494</td>\n",
       "      <td>70.432494</td>\n",
       "    </tr>\n",
       "    <tr>\n",
       "      <th>CYTK1</th>\n",
       "      <td>0.158739</td>\n",
       "      <td>0.158739</td>\n",
       "    </tr>\n",
       "    <tr>\n",
       "      <th>PYK</th>\n",
       "      <td>0.000000</td>\n",
       "      <td>2.275814</td>\n",
       "    </tr>\n",
       "  </tbody>\n",
       "</table>\n",
       "</div>"
      ],
      "text/plain": [
       "            minimum    maximum\n",
       "ATPS4rpp  70.432494  70.432494\n",
       "CYTK1      0.158739   0.158739\n",
       "PYK        0.000000   2.275814"
      ]
     },
     "execution_count": 15,
     "metadata": {},
     "output_type": "execute_result"
    }
   ],
   "source": [
    "flux_variability_analysis(\n",
    "    model,\n",
    "    [\"ATPS4rpp\", \"CYTK1\", \"PYK\"],\n",
    "    loopless=True\n",
    ")"
   ]
  },
  {
   "cell_type": "code",
   "execution_count": 14,
   "id": "bae6af80",
   "metadata": {},
   "outputs": [
    {
     "data": {
      "text/html": [
       "<div>\n",
       "<style scoped>\n",
       "    .dataframe tbody tr th:only-of-type {\n",
       "        vertical-align: middle;\n",
       "    }\n",
       "\n",
       "    .dataframe tbody tr th {\n",
       "        vertical-align: top;\n",
       "    }\n",
       "\n",
       "    .dataframe thead th {\n",
       "        text-align: right;\n",
       "    }\n",
       "</style>\n",
       "<table border=\"1\" class=\"dataframe\">\n",
       "  <thead>\n",
       "    <tr style=\"text-align: right;\">\n",
       "      <th></th>\n",
       "      <th>minimum</th>\n",
       "      <th>maximum</th>\n",
       "    </tr>\n",
       "  </thead>\n",
       "  <tbody>\n",
       "    <tr>\n",
       "      <th>ATPS4rpp</th>\n",
       "      <td>70.432494</td>\n",
       "      <td>70.432494</td>\n",
       "    </tr>\n",
       "    <tr>\n",
       "      <th>CYTK1</th>\n",
       "      <td>0.158739</td>\n",
       "      <td>0.158739</td>\n",
       "    </tr>\n",
       "    <tr>\n",
       "      <th>PYK</th>\n",
       "      <td>0.000000</td>\n",
       "      <td>2.275814</td>\n",
       "    </tr>\n",
       "  </tbody>\n",
       "</table>\n",
       "</div>"
      ],
      "text/plain": [
       "            minimum    maximum\n",
       "ATPS4rpp  70.432494  70.432494\n",
       "CYTK1      0.158739   0.158739\n",
       "PYK        0.000000   2.275814"
      ]
     },
     "execution_count": 14,
     "metadata": {},
     "output_type": "execute_result"
    }
   ],
   "source": [
    "flux_variability_analysis(\n",
    "    model,\n",
    "    [\"ATPS4rpp\", \"CYTK1\", \"PYK\"]\n",
    ")\n",
    "# Different results for loopless true/false means that the reaction has a loop that is not possible in vivo\n"
   ]
  },
  {
   "cell_type": "code",
   "execution_count": 21,
   "id": "8365cfa3",
   "metadata": {},
   "outputs": [
    {
     "data": {
      "text/html": [
       "\n",
       "        <table>\n",
       "            <tr>\n",
       "                <td><strong>Reaction identifier</strong></td><td>PYK</td>\n",
       "            </tr><tr>\n",
       "                <td><strong>Name</strong></td><td>Pyruvate kinase</td>\n",
       "            </tr><tr>\n",
       "                <td><strong>Memory address</strong></td>\n",
       "                <td>0x717fb4c512b0</td>\n",
       "            </tr><tr>\n",
       "                <td><strong>Stoichiometry</strong></td>\n",
       "                <td>\n",
       "                    <p style='text-align:right'>adp_c + h_c + pep_c --> atp_c + pyr_c</p>\n",
       "                    <p style='text-align:right'>ADP C10H12N5O10P2 + H+ + Phosphoenolpyruvate --> ATP C10H12N5O13P3 + Pyruvate</p>\n",
       "                </td>\n",
       "            </tr><tr>\n",
       "                <td><strong>GPR</strong></td><td>b1854 or b1676</td>\n",
       "            </tr><tr>\n",
       "                <td><strong>Lower bound</strong></td><td>0.0</td>\n",
       "            </tr><tr>\n",
       "                <td><strong>Upper bound</strong></td><td>1000.0</td>\n",
       "            </tr>\n",
       "        </table>\n",
       "        "
      ],
      "text/plain": [
       "<Reaction PYK at 0x717fb4c512b0>"
      ]
     },
     "execution_count": 21,
     "metadata": {},
     "output_type": "execute_result"
    }
   ],
   "source": [
    "model.reactions.get_by_id(\"PYK\")"
   ]
  },
  {
   "cell_type": "code",
   "execution_count": 10,
   "id": "877882cb",
   "metadata": {},
   "outputs": [
    {
     "name": "stdout",
     "output_type": "stream",
     "text": [
      "Regular model: 0.876997214427006\n",
      "Knock out solution: 0.8752954684189185\n"
     ]
    }
   ],
   "source": [
    "print(f\"Regular model: {model.optimize().objective_value}\")\n",
    "\n",
    "with model:\n",
    "    model.reactions.CYTK1.knock_out() # 0.8752954684189185 <- Solo\n",
    "    #model.reactions.CYTK2.knock_out() # 0.8769972144269912 <- Solo\n",
    "    # 0.8752954684189429 both\n",
    "    print(f\"Knock out solution: {model.optimize().objective_value}\")"
   ]
  },
  {
   "cell_type": "code",
   "execution_count": 12,
   "id": "ba48293f",
   "metadata": {},
   "outputs": [
    {
     "name": "stdout",
     "output_type": "stream",
     "text": [
      "Regular model: 0.8769972144269661\n",
      "Knocked out solution: 0.8769972144269661\n"
     ]
    }
   ],
   "source": [
    "print(f\"Regular model: {model.optimize().objective_value}\")\n",
    "\n",
    "with model:\n",
    "    model.reactions.GLCtex_copy1.knock_out() #Knocking only one doesn't create a change\n",
    "    #model.reactions.GLCtex_copy2.knock_out() # Knocking two kills the organism\n",
    "    print(f\"Knocked out solution: {model.optimize().objective_value}\")"
   ]
  },
  {
   "cell_type": "code",
   "execution_count": 77,
   "id": "361aa1b3",
   "metadata": {},
   "outputs": [
    {
     "name": "stdout",
     "output_type": "stream",
     "text": [
      "Regular model: 0.8769972144269954\n",
      "Knocked out solution: 0.8769972144269954\n"
     ]
    }
   ],
   "source": [
    "print(f\"Regular model: {model.optimize().objective_value}\")\n",
    "\n",
    "with model:\n",
    "    model.genes.b1676.knock_out()\n",
    "    print(f\"Knocked out solution: {model.optimize().objective_value}\")"
   ]
  },
  {
   "cell_type": "code",
   "execution_count": null,
   "id": "e8d6bad9",
   "metadata": {},
   "outputs": [
    {
     "name": "stdout",
     "output_type": "stream",
     "text": [
      "Regular model: 0.8769972144269954\n",
      "Gene knockout: 0.8769972144269954\n"
     ]
    }
   ],
   "source": [
    "print(f\"Regular model: {model.optimize().objective_value}\")\n",
    "\n",
    "with model:\n",
    "    # double_gene_deletion(model, [\"b1676\"], [\"b1854\"])\n",
    "    # This crashes the program due to no memory. Can't test it\n",
    "    print(f\"Gene knockout: {model.optimize().objective_value}\")"
   ]
  },
  {
   "cell_type": "code",
   "execution_count": null,
   "id": "b57cb656",
   "metadata": {},
   "outputs": [
    {
     "name": "stdout",
     "output_type": "stream",
     "text": [
      "regular model: 0.876997214427006\n",
      "Gene knockout solution: 0.876997214427006\n",
      "Reaction knockout solution: 0.876997214427006\n"
     ]
    }
   ],
   "source": [
    "print(f\"regular model: {model.optimize().objective_value}\")\n",
    "\n",
    "with model:\n",
    "    single_gene_deletion(model, [\"b0910\"])\n",
    "    print(f\"Gene knockout solution: {model.optimize().objective_value}\")\n",
    "\n",
    "with model:\n",
    "    single_reaction_deletion(model, [\"CYTK1\"])\n",
    "    print(f\"Reaction knockout solution: {model.optimize().objective_value}\")\n",
    "\n",
    "# 0.8752954684189185 <- Was the .knock_out() result"
   ]
  },
  {
   "cell_type": "code",
   "execution_count": null,
   "id": "f6ec7df5",
   "metadata": {},
   "outputs": [
    {
     "ename": "Infeasible",
     "evalue": "None (infeasible).",
     "output_type": "error",
     "traceback": [
      "\u001b[31m---------------------------------------------------------------------------\u001b[39m",
      "\u001b[31mInfeasible\u001b[39m                                Traceback (most recent call last)",
      "\u001b[36mCell\u001b[39m\u001b[36m \u001b[39m\u001b[32mIn[13]\u001b[39m\u001b[32m, line 1\u001b[39m\n\u001b[32m----> \u001b[39m\u001b[32m1\u001b[39m \u001b[43mmodel\u001b[49m\u001b[43m.\u001b[49m\u001b[43msummary\u001b[49m\u001b[43m(\u001b[49m\u001b[43m)\u001b[49m\n",
      "\u001b[36mFile \u001b[39m\u001b[32m~/Documents/CobraPy/.venv/lib/python3.12/site-packages/cobra/core/model.py:1389\u001b[39m, in \u001b[36mModel.summary\u001b[39m\u001b[34m(self, solution, fva)\u001b[39m\n\u001b[32m   1362\u001b[39m \u001b[38;5;250m\u001b[39m\u001b[33;03m\"\"\"\u001b[39;00m\n\u001b[32m   1363\u001b[39m \u001b[33;03mCreate a summary of the exchange fluxes of the model.\u001b[39;00m\n\u001b[32m   1364\u001b[39m \n\u001b[32m   (...)\u001b[39m\u001b[32m   1385\u001b[39m \n\u001b[32m   1386\u001b[39m \u001b[33;03m\"\"\"\u001b[39;00m\n\u001b[32m   1387\u001b[39m \u001b[38;5;28;01mfrom\u001b[39;00m\u001b[38;5;250m \u001b[39m\u001b[34;01mcobra\u001b[39;00m\u001b[34;01m.\u001b[39;00m\u001b[34;01msummary\u001b[39;00m\u001b[38;5;250m \u001b[39m\u001b[38;5;28;01mimport\u001b[39;00m ModelSummary\n\u001b[32m-> \u001b[39m\u001b[32m1389\u001b[39m \u001b[38;5;28;01mreturn\u001b[39;00m \u001b[43mModelSummary\u001b[49m\u001b[43m(\u001b[49m\u001b[43mmodel\u001b[49m\u001b[43m=\u001b[49m\u001b[38;5;28;43mself\u001b[39;49m\u001b[43m,\u001b[49m\u001b[43m \u001b[49m\u001b[43msolution\u001b[49m\u001b[43m=\u001b[49m\u001b[43msolution\u001b[49m\u001b[43m,\u001b[49m\u001b[43m \u001b[49m\u001b[43mfva\u001b[49m\u001b[43m=\u001b[49m\u001b[43mfva\u001b[49m\u001b[43m)\u001b[49m\n",
      "\u001b[36mFile \u001b[39m\u001b[32m~/Documents/CobraPy/.venv/lib/python3.12/site-packages/cobra/summary/model_summary.py:84\u001b[39m, in \u001b[36mModelSummary.__init__\u001b[39m\u001b[34m(self, model, solution, fva, **kwargs)\u001b[39m\n\u001b[32m     82\u001b[39m \u001b[38;5;28mself\u001b[39m.uptake_flux: Optional[pd.DataFrame] = \u001b[38;5;28;01mNone\u001b[39;00m\n\u001b[32m     83\u001b[39m \u001b[38;5;28mself\u001b[39m.secretion_flux: Optional[pd.DataFrame] = \u001b[38;5;28;01mNone\u001b[39;00m\n\u001b[32m---> \u001b[39m\u001b[32m84\u001b[39m \u001b[38;5;28;43mself\u001b[39;49m\u001b[43m.\u001b[49m\u001b[43m_generate\u001b[49m\u001b[43m(\u001b[49m\u001b[43mmodel\u001b[49m\u001b[43m,\u001b[49m\u001b[43m \u001b[49m\u001b[43msolution\u001b[49m\u001b[43m,\u001b[49m\u001b[43m \u001b[49m\u001b[43mfva\u001b[49m\u001b[43m)\u001b[49m\n",
      "\u001b[36mFile \u001b[39m\u001b[32m~/Documents/CobraPy/.venv/lib/python3.12/site-packages/cobra/summary/model_summary.py:115\u001b[39m, in \u001b[36mModelSummary._generate\u001b[39m\u001b[34m(self, model, solution, fva)\u001b[39m\n\u001b[32m    113\u001b[39m \u001b[38;5;28;01mif\u001b[39;00m solution \u001b[38;5;129;01mis\u001b[39;00m \u001b[38;5;28;01mNone\u001b[39;00m:\n\u001b[32m    114\u001b[39m     logger.info(\u001b[33m\"\u001b[39m\u001b[33mGenerating new parsimonious flux distribution.\u001b[39m\u001b[33m\"\u001b[39m)\n\u001b[32m--> \u001b[39m\u001b[32m115\u001b[39m     solution = \u001b[43mpfba\u001b[49m\u001b[43m(\u001b[49m\u001b[43mmodel\u001b[49m\u001b[43m)\u001b[49m\n\u001b[32m    117\u001b[39m \u001b[38;5;28;01mif\u001b[39;00m \u001b[38;5;28misinstance\u001b[39m(fva, \u001b[38;5;28mfloat\u001b[39m):\n\u001b[32m    118\u001b[39m     logger.info(\u001b[33m\"\u001b[39m\u001b[33mPerforming flux variability analysis.\u001b[39m\u001b[33m\"\u001b[39m)\n",
      "\u001b[36mFile \u001b[39m\u001b[32m~/Documents/CobraPy/.venv/lib/python3.12/site-packages/cobra/flux_analysis/parsimonious.py:94\u001b[39m, in \u001b[36mpfba\u001b[39m\u001b[34m(model, fraction_of_optimum, objective, reactions)\u001b[39m\n\u001b[32m     90\u001b[39m reactions = (\n\u001b[32m     91\u001b[39m     model.reactions \u001b[38;5;28;01mif\u001b[39;00m reactions \u001b[38;5;129;01mis\u001b[39;00m \u001b[38;5;28;01mNone\u001b[39;00m \u001b[38;5;28;01melse\u001b[39;00m model.reactions.get_by_any(reactions)\n\u001b[32m     92\u001b[39m )\n\u001b[32m     93\u001b[39m \u001b[38;5;28;01mwith\u001b[39;00m model \u001b[38;5;28;01mas\u001b[39;00m m:\n\u001b[32m---> \u001b[39m\u001b[32m94\u001b[39m     \u001b[43madd_pfba\u001b[49m\u001b[43m(\u001b[49m\u001b[43mm\u001b[49m\u001b[43m,\u001b[49m\u001b[43m \u001b[49m\u001b[43mobjective\u001b[49m\u001b[43m=\u001b[49m\u001b[43mobjective\u001b[49m\u001b[43m,\u001b[49m\u001b[43m \u001b[49m\u001b[43mfraction_of_optimum\u001b[49m\u001b[43m=\u001b[49m\u001b[43mfraction_of_optimum\u001b[49m\u001b[43m)\u001b[49m\n\u001b[32m     95\u001b[39m     m.slim_optimize(error_value=\u001b[38;5;28;01mNone\u001b[39;00m)\n\u001b[32m     96\u001b[39m     solution = get_solution(m, reactions=reactions)\n",
      "\u001b[36mFile \u001b[39m\u001b[32m~/Documents/CobraPy/.venv/lib/python3.12/site-packages/cobra/flux_analysis/parsimonious.py:132\u001b[39m, in \u001b[36madd_pfba\u001b[39m\u001b[34m(model, objective, fraction_of_optimum)\u001b[39m\n\u001b[32m    130\u001b[39m \u001b[38;5;28;01mif\u001b[39;00m model.solver.objective.name == \u001b[33m\"\u001b[39m\u001b[33m_pfba_objective\u001b[39m\u001b[33m\"\u001b[39m:\n\u001b[32m    131\u001b[39m     \u001b[38;5;28;01mraise\u001b[39;00m \u001b[38;5;167;01mValueError\u001b[39;00m(\u001b[33m\"\u001b[39m\u001b[33mThe model already has a pFBA objective.\u001b[39m\u001b[33m\"\u001b[39m)\n\u001b[32m--> \u001b[39m\u001b[32m132\u001b[39m \u001b[43msutil\u001b[49m\u001b[43m.\u001b[49m\u001b[43mfix_objective_as_constraint\u001b[49m\u001b[43m(\u001b[49m\u001b[43mmodel\u001b[49m\u001b[43m,\u001b[49m\u001b[43m \u001b[49m\u001b[43mfraction\u001b[49m\u001b[43m=\u001b[49m\u001b[43mfraction_of_optimum\u001b[49m\u001b[43m)\u001b[49m\n\u001b[32m    133\u001b[39m reaction_variables = (\n\u001b[32m    134\u001b[39m     (rxn.forward_variable, rxn.reverse_variable) \u001b[38;5;28;01mfor\u001b[39;00m rxn \u001b[38;5;129;01min\u001b[39;00m model.reactions\n\u001b[32m    135\u001b[39m )\n\u001b[32m    136\u001b[39m variables = chain(*reaction_variables)\n",
      "\u001b[36mFile \u001b[39m\u001b[32m~/Documents/CobraPy/.venv/lib/python3.12/site-packages/cobra/util/solver.py:513\u001b[39m, in \u001b[36mfix_objective_as_constraint\u001b[39m\u001b[34m(model, fraction, bound, name)\u001b[39m\n\u001b[32m    511\u001b[39m     model.solver.remove(fix_objective_name)\n\u001b[32m    512\u001b[39m \u001b[38;5;28;01mif\u001b[39;00m bound \u001b[38;5;129;01mis\u001b[39;00m \u001b[38;5;28;01mNone\u001b[39;00m:\n\u001b[32m--> \u001b[39m\u001b[32m513\u001b[39m     bound = \u001b[43mmodel\u001b[49m\u001b[43m.\u001b[49m\u001b[43mslim_optimize\u001b[49m\u001b[43m(\u001b[49m\u001b[43merror_value\u001b[49m\u001b[43m=\u001b[49m\u001b[38;5;28;43;01mNone\u001b[39;49;00m\u001b[43m)\u001b[49m * fraction\n\u001b[32m    514\u001b[39m \u001b[38;5;28;01mif\u001b[39;00m model.objective.direction == \u001b[33m\"\u001b[39m\u001b[33mmax\u001b[39m\u001b[33m\"\u001b[39m:\n\u001b[32m    515\u001b[39m     ub, lb = \u001b[38;5;28;01mNone\u001b[39;00m, bound\n",
      "\u001b[36mFile \u001b[39m\u001b[32m~/Documents/CobraPy/.venv/lib/python3.12/site-packages/cobra/core/model.py:1202\u001b[39m, in \u001b[36mModel.slim_optimize\u001b[39m\u001b[34m(self, error_value, message)\u001b[39m\n\u001b[32m   1200\u001b[39m     \u001b[38;5;28;01mreturn\u001b[39;00m error_value\n\u001b[32m   1201\u001b[39m \u001b[38;5;28;01melse\u001b[39;00m:\n\u001b[32m-> \u001b[39m\u001b[32m1202\u001b[39m     \u001b[43massert_optimal\u001b[49m\u001b[43m(\u001b[49m\u001b[38;5;28;43mself\u001b[39;49m\u001b[43m,\u001b[49m\u001b[43m \u001b[49m\u001b[43mmessage\u001b[49m\u001b[43m)\u001b[49m\n",
      "\u001b[36mFile \u001b[39m\u001b[32m~/Documents/CobraPy/.venv/lib/python3.12/site-packages/cobra/util/solver.py:590\u001b[39m, in \u001b[36massert_optimal\u001b[39m\u001b[34m(model, message)\u001b[39m\n\u001b[32m    588\u001b[39m \u001b[38;5;28;01mif\u001b[39;00m status != OPTIMAL:\n\u001b[32m    589\u001b[39m     exception_cls = OPTLANG_TO_EXCEPTIONS_DICT.get(status, OptimizationError)\n\u001b[32m--> \u001b[39m\u001b[32m590\u001b[39m     \u001b[38;5;28;01mraise\u001b[39;00m exception_cls(\u001b[33mf\u001b[39m\u001b[33m\"\u001b[39m\u001b[38;5;132;01m{\u001b[39;00mmessage\u001b[38;5;132;01m}\u001b[39;00m\u001b[33m (\u001b[39m\u001b[38;5;132;01m{\u001b[39;00mstatus\u001b[38;5;132;01m}\u001b[39;00m\u001b[33m).\u001b[39m\u001b[33m\"\u001b[39m)\n",
      "\u001b[31mInfeasible\u001b[39m: None (infeasible)."
     ]
    }
   ],
   "source": [
    "model.summary()\n",
    "# No carbon source. So no growth\n",
    "# Gives 'infeasible' error"
   ]
  },
  {
   "cell_type": "code",
   "execution_count": 19,
   "id": "6e3568b0",
   "metadata": {},
   "outputs": [
    {
     "data": {
      "text/plain": [
       "[<Reaction EX_pi_e at 0x72be19608050>,\n",
       " <Reaction EX_co2_e at 0x72be19609b80>,\n",
       " <Reaction EX_met__L_e at 0x72be1960aba0>,\n",
       " <Reaction EX_metsox_S__L_e at 0x72be1960bdd0>,\n",
       " <Reaction EX_acgam_e at 0x72be1964d6d0>]"
      ]
     },
     "execution_count": 19,
     "metadata": {},
     "output_type": "execute_result"
    }
   ],
   "source": [
    "model.exchanges[0:5]"
   ]
  },
  {
   "cell_type": "code",
   "execution_count": 20,
   "id": "d61e2650",
   "metadata": {},
   "outputs": [
    {
     "data": {
      "text/plain": [
       "[<Reaction DM_amob_c at 0x72be1913e270>,\n",
       " <Reaction DM_5drib_c at 0x72be185604d0>,\n",
       " <Reaction DM_oxam_c at 0x72be1859c590>,\n",
       " <Reaction DM_aacald_c at 0x72be182a38c0>,\n",
       " <Reaction DM_4crsol_c at 0x72be18060b30>]"
      ]
     },
     "execution_count": 20,
     "metadata": {},
     "output_type": "execute_result"
    }
   ],
   "source": [
    "model.demands[0:5]"
   ]
  },
  {
   "cell_type": "code",
   "execution_count": 21,
   "id": "bc115650",
   "metadata": {},
   "outputs": [
    {
     "data": {
      "text/plain": [
       "[<Reaction EX_pi_e at 0x72be19608050>,\n",
       " <Reaction EX_co2_e at 0x72be19609b80>,\n",
       " <Reaction EX_met__L_e at 0x72be1960aba0>,\n",
       " <Reaction EX_metsox_S__L_e at 0x72be1960bdd0>,\n",
       " <Reaction EX_acgam_e at 0x72be1964d6d0>]"
      ]
     },
     "execution_count": 21,
     "metadata": {},
     "output_type": "execute_result"
    }
   ],
   "source": [
    "model.boundary[0:5]"
   ]
  },
  {
   "cell_type": "code",
   "execution_count": null,
   "id": "fba7361b",
   "metadata": {},
   "outputs": [
    {
     "data": {
      "text/html": [
       "<div>\n",
       "<style scoped>\n",
       "    .dataframe tbody tr th:only-of-type {\n",
       "        vertical-align: middle;\n",
       "    }\n",
       "\n",
       "    .dataframe tbody tr th {\n",
       "        vertical-align: top;\n",
       "    }\n",
       "\n",
       "    .dataframe thead th {\n",
       "        text-align: right;\n",
       "    }\n",
       "</style>\n",
       "<table border=\"1\" class=\"dataframe\">\n",
       "  <thead>\n",
       "    <tr style=\"text-align: right;\">\n",
       "      <th></th>\n",
       "      <th>minimum</th>\n",
       "      <th>maximum</th>\n",
       "    </tr>\n",
       "  </thead>\n",
       "  <tbody>\n",
       "    <tr>\n",
       "      <th>CYTDK2</th>\n",
       "      <td>0.000000e+00</td>\n",
       "      <td>2.858328e-12</td>\n",
       "    </tr>\n",
       "    <tr>\n",
       "      <th>XPPT</th>\n",
       "      <td>0.000000e+00</td>\n",
       "      <td>-6.226736e-13</td>\n",
       "    </tr>\n",
       "    <tr>\n",
       "      <th>HXPRT</th>\n",
       "      <td>0.000000e+00</td>\n",
       "      <td>-1.115665e-12</td>\n",
       "    </tr>\n",
       "    <tr>\n",
       "      <th>NDPK5</th>\n",
       "      <td>-2.294751e-02</td>\n",
       "      <td>1.143331e-11</td>\n",
       "    </tr>\n",
       "    <tr>\n",
       "      <th>SHK3Dr</th>\n",
       "      <td>3.342403e-01</td>\n",
       "      <td>3.342403e-01</td>\n",
       "    </tr>\n",
       "    <tr>\n",
       "      <th>NDPK6</th>\n",
       "      <td>0.000000e+00</td>\n",
       "      <td>-1.269620e-11</td>\n",
       "    </tr>\n",
       "    <tr>\n",
       "      <th>NDPK8</th>\n",
       "      <td>-2.294751e-02</td>\n",
       "      <td>1.143331e-11</td>\n",
       "    </tr>\n",
       "    <tr>\n",
       "      <th>DHORTS</th>\n",
       "      <td>-2.901063e-01</td>\n",
       "      <td>-2.901063e-01</td>\n",
       "    </tr>\n",
       "    <tr>\n",
       "      <th>OMPDC</th>\n",
       "      <td>2.901063e-01</td>\n",
       "      <td>2.901063e-01</td>\n",
       "    </tr>\n",
       "    <tr>\n",
       "      <th>PYNP2r</th>\n",
       "      <td>-5.436754e-18</td>\n",
       "      <td>2.294751e-02</td>\n",
       "    </tr>\n",
       "  </tbody>\n",
       "</table>\n",
       "</div>"
      ],
      "text/plain": [
       "             minimum       maximum\n",
       "CYTDK2  0.000000e+00  2.858328e-12\n",
       "XPPT    0.000000e+00 -6.226736e-13\n",
       "HXPRT   0.000000e+00 -1.115665e-12\n",
       "NDPK5  -2.294751e-02  1.143331e-11\n",
       "SHK3Dr  3.342403e-01  3.342403e-01\n",
       "NDPK6   0.000000e+00 -1.269620e-11\n",
       "NDPK8  -2.294751e-02  1.143331e-11\n",
       "DHORTS -2.901063e-01 -2.901063e-01\n",
       "OMPDC   2.901063e-01  2.901063e-01\n",
       "PYNP2r -5.436754e-18  2.294751e-02"
      ]
     },
     "execution_count": 25,
     "metadata": {},
     "output_type": "execute_result"
    }
   ],
   "source": [
    "flux_variability_analysis(model, model.reactions[:10])\n",
    "# finds the ranges of each metabolic flux at the optimum\n",
    "\n",
    "# , fraction_of_optimum=0.9 <- At %90 optimality"
   ]
  },
  {
   "cell_type": "code",
   "execution_count": null,
   "id": "50fbcf93",
   "metadata": {},
   "outputs": [],
   "source": []
  },
  {
   "cell_type": "code",
   "execution_count": null,
   "id": "9da437ec",
   "metadata": {},
   "outputs": [],
   "source": []
  }
 ],
 "metadata": {
  "kernelspec": {
   "display_name": ".venv",
   "language": "python",
   "name": "python3"
  },
  "language_info": {
   "codemirror_mode": {
    "name": "ipython",
    "version": 3
   },
   "file_extension": ".py",
   "mimetype": "text/x-python",
   "name": "python",
   "nbconvert_exporter": "python",
   "pygments_lexer": "ipython3",
   "version": "3.12.9"
  }
 },
 "nbformat": 4,
 "nbformat_minor": 5
}
