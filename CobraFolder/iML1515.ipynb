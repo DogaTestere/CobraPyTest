{
 "cells": [
  {
   "cell_type": "code",
   "execution_count": 2,
   "id": "d3fcd3db",
   "metadata": {},
   "outputs": [],
   "source": [
    "from cobra.io import load_model\n",
    "from cobra.flux_analysis import (\n",
    "    single_gene_deletion, single_reaction_deletion,\n",
    "    double_gene_deletion, double_reaction_deletion,\n",
    "    flux_variability_analysis\n",
    ")\n",
    "from cobra.util.solver import linear_reaction_coefficients\n",
    "\n",
    "model = load_model(\"iML1515\")"
   ]
  },
  {
   "cell_type": "code",
   "execution_count": null,
   "id": "4c54a51d",
   "metadata": {},
   "outputs": [],
   "source": [
    "# Writing this displays information about the model\n",
    "model"
   ]
  },
  {
   "cell_type": "code",
   "execution_count": null,
   "id": "7630fa24",
   "metadata": {},
   "outputs": [],
   "source": [
    "model.optimize()"
   ]
  },
  {
   "cell_type": "markdown",
   "id": "7a6508d3",
   "metadata": {},
   "source": [
    "model.optimize() = Returns an object named Solution:\n",
    "- objective_value \n",
    "- status \n",
    "- shadow_price = Susceptibilty of the solution to the metabolite in the question. Basically 'how much it would help the reaction if there were more of it?'\n",
    "\n",
    "Shadow prices and status can be found as `solution.shadow_prices` and `solution.status`"
   ]
  },
  {
   "cell_type": "code",
   "execution_count": null,
   "id": "e4bf093a",
   "metadata": {},
   "outputs": [],
   "source": [
    "model.summary()\n",
    "# Full summary of the model"
   ]
  },
  {
   "cell_type": "code",
   "execution_count": null,
   "id": "51d1859d",
   "metadata": {},
   "outputs": [],
   "source": [
    "print(f\"Normal medium {model.medium}\")\n",
    "\n",
    "with model:\n",
    "    medium_No_Oxygen = model.medium\n",
    "    medium_No_Oxygen[\"EX_o2_e\"] = 0.0\n",
    "    model.medium = medium_No_Oxygen\n",
    "    print(f\"No oxygen in medium: {model.medium}\")"
   ]
  },
  {
   "cell_type": "code",
   "execution_count": null,
   "id": "1c1ed05c",
   "metadata": {},
   "outputs": [],
   "source": [
    "o2_Intake = model.reactions.get_by_id(\"EX_o2_e\")\n",
    "print(f\"Normal o2 intakes: {o2_Intake.bounds}\")\n",
    "\n",
    "with model:\n",
    "    o2_Intake = model.reactions.get_by_id(\"EX_o2_e\")\n",
    "    o2_Intake.bounds = (0,1000)\n",
    "    print(f\"Changed bounds {o2_Intake.bounds}\")"
   ]
  },
  {
   "cell_type": "code",
   "execution_count": null,
   "id": "2a780189",
   "metadata": {},
   "outputs": [],
   "source": [
    "model.metabolites.nadh_c.summary()\n",
    "# This summary gives more information about each reaction that metabolite is used"
   ]
  },
  {
   "cell_type": "code",
   "execution_count": null,
   "id": "cf94575c",
   "metadata": {},
   "outputs": [],
   "source": [
    "model.metabolites.get_by_id(\"nadh_c\")\n",
    "# More information about each reaction(copy ones) and location of the metabolite in cell\n",
    "# e = extracellular\n",
    "# c = cytosol"
   ]
  },
  {
   "cell_type": "code",
   "execution_count": null,
   "id": "2da2e402",
   "metadata": {},
   "outputs": [],
   "source": [
    "with model:\n",
    "    model.objective = \"ATPS4rpp\" # Objective is now producing ATP\n",
    "    linerr = linear_reaction_coefficients(model)\n",
    "    objective = model.optimize().objective_value\n",
    "    print(f\"{linerr} \\n {objective}\")"
   ]
  },
  {
   "cell_type": "markdown",
   "id": "08eb90e3",
   "metadata": {},
   "source": [
    "FVA = Flux variability analysis, calculates the maximum and minumum flux a reaction can have while satifying all condition and keeping the goal in mind.\n",
    "- loopless : This prevents loops that are impossible to happen *in vivo*. Default is false. loopless=True takes more time than false\n",
    "    Different numbers in loopless True/False means that reaction participates in a loop"
   ]
  },
  {
   "cell_type": "code",
   "execution_count": null,
   "id": "97d939f1",
   "metadata": {},
   "outputs": [],
   "source": [
    "flux_variability_analysis(\n",
    "    model,\n",
    "    [\"ATPS4rpp\", \"CTYK1\", \"PYK\"],\n",
    "    loopless=True\n",
    ")"
   ]
  },
  {
   "cell_type": "code",
   "execution_count": null,
   "id": "2a3543a6",
   "metadata": {},
   "outputs": [],
   "source": [
    "flux_variability_analysis(\n",
    "    model,\n",
    "    model.reactions[:10],\n",
    "    loopless=True\n",
    ")"
   ]
  },
  {
   "cell_type": "code",
   "execution_count": null,
   "id": "379ddd41",
   "metadata": {},
   "outputs": [],
   "source": [
    "flux_variability_analysis(\n",
    "    model,\n",
    "    model.reactions[:10],\n",
    "    loopless=False\n",
    ")"
   ]
  },
  {
   "cell_type": "markdown",
   "id": "b7873c1c",
   "metadata": {},
   "source": [
    "Genes and reactions can be knocked out with `.knock_out()` and `single_gene/reaction_deletion()`.\n",
    "Pair of reactions or genes can be knocked out with `double_gene/reaction_deletion()`\n",
    "\n",
    "`.knock_out()` cannot do multiple deletions in one go, but `single_gene/reaction_deletion()` can take a list as an argument "
   ]
  },
  {
   "cell_type": "code",
   "execution_count": null,
   "id": "70159821",
   "metadata": {},
   "outputs": [],
   "source": [
    "print(f\"Regular solution: {model.optimize().objective_value}\")\n",
    "\n",
    "with model:\n",
    "    model.reactions.ATPS4rpp.knock_out()\n",
    "    print(f\"Knock out of ATP synthase: {model.optimize().objective_value}\")\n",
    "\n",
    "with model:\n",
    "    model.genes.b3739.knock_out() # Probably won't affect since there are too many possible GPR\n",
    "    print(f\"Knock out of ATP synthease gene: {model.optimize().objective_value}\")"
   ]
  },
  {
   "cell_type": "code",
   "execution_count": null,
   "id": "77c4ae95",
   "metadata": {},
   "outputs": [],
   "source": [
    "print(f\"Regular solution: {model.optimize().objective_value}\")\n",
    "\n",
    "with model:\n",
    "    single_gene_deletion(model, [\"b1779\"])\n",
    "    print(f\"Knock out of GAPD gene: {model.optimize().objective_value}\")\n",
    "\n",
    "with model:\n",
    "    single_reaction_deletion(model, [\"GAPD\"])\n",
    "    print(f\"Knock out of GAPD reaction: {model.optimize().objective_value}\")"
   ]
  },
  {
   "cell_type": "code",
   "execution_count": null,
   "id": "4ec0cb2c",
   "metadata": {},
   "outputs": [],
   "source": []
  }
 ],
 "metadata": {
  "kernelspec": {
   "display_name": "cobratest-py3.12",
   "language": "python",
   "name": "python3"
  },
  "language_info": {
   "codemirror_mode": {
    "name": "ipython",
    "version": 3
   },
   "file_extension": ".py",
   "mimetype": "text/x-python",
   "name": "python",
   "nbconvert_exporter": "python",
   "pygments_lexer": "ipython3",
   "version": "3.12.9"
  }
 },
 "nbformat": 4,
 "nbformat_minor": 5
}
