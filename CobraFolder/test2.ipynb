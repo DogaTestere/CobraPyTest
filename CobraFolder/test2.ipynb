{
 "cells": [
  {
   "cell_type": "code",
   "execution_count": 1,
   "id": "cfb24bd4",
   "metadata": {},
   "outputs": [],
   "source": [
    "from cobra import Model, Reaction, Metabolite\n",
    "\n",
    "model = Model(\"NewModel\")"
   ]
  },
  {
   "cell_type": "code",
   "execution_count": 20,
   "id": "dc4489ab",
   "metadata": {},
   "outputs": [],
   "source": [
    "def create_reaction(id_num, name, genes, metabolites_dict, subsystem=\"\"):\n",
    "    reaction = Reaction(\n",
    "        id=id_num,\n",
    "        name=name,\n",
    "        subsystem=subsystem #Added =\"\" so that it doesnt create an error if i forget to add it\n",
    "    )\n",
    "    reaction.gene_reaction_rule = genes\n",
    "\n",
    "    reaction.add_metabolites(metabolites_dict)\n",
    "\n",
    "    return reaction\n",
    "\n",
    "def create_metabolites(id_name, formula, name, compartment=\"\"):\n",
    "    metabolite = Metabolite(\n",
    "        id= id_name,\n",
    "        formula=formula,\n",
    "        name=name,\n",
    "        compartment=compartment\n",
    "    )\n",
    "\n",
    "    return metabolite"
   ]
  },
  {
   "cell_type": "code",
   "execution_count": 21,
   "id": "c0777c15",
   "metadata": {},
   "outputs": [],
   "source": [
    "bD_frc_p6_c = create_metabolites(\"bD_frc_p6\",\"C6H11O9P\",\"β-D-fructofuranose 6-phosphate\",\"c\")\n",
    "\n",
    "bD_frc_p1_6_c = Metabolite(\n",
    "    id=\"bD_frc_p1_6_c\",\n",
    "    formula=\"C6H10O12P2\",\n",
    "    name=\"β-D-fructose 1,6-bisphosphate \",\n",
    "    compartment=\"c\",\n",
    ")\n",
    "\n",
    "a_glc_p6_c = Metabolite(\n",
    "    id=\"a_glc_p6_c\",\n",
    "    formula=\"C6H11O9P\",\n",
    "    name=\"α-glucose 6-phosphate\",\n",
    "    compartment=\"c\",\n",
    ")\n",
    "\n",
    "atp_c = Metabolite(\n",
    "    id=\"atp_c\",\n",
    "    formula=\"C10H12N5O13P3\",\n",
    "    name=\"Adenosine-triphosphate\",\n",
    "    compartment=\"\",\n",
    ")\n",
    "\n",
    "adp_c = Metabolite(\n",
    "    id=\"adp_c\",\n",
    "    formula=\"C10H12N5O10P2\",\n",
    "    name=\"Adenosine-diphosphate\",\n",
    "    compartment=\"\",\n",
    ")\n",
    "\n",
    "h = Metabolite(\n",
    "    id=\"h\",\n",
    "    formula=\"H+\",\n",
    "    name=\"Proton\",\n",
    "    compartment=\"\",\n",
    ")"
   ]
  },
  {
   "cell_type": "code",
   "execution_count": 22,
   "id": "82d71a66",
   "metadata": {},
   "outputs": [
    {
     "name": "stderr",
     "output_type": "stream",
     "text": [
      "Ignoring reaction 'R00947' since it already exists.\n",
      "Ignoring reaction 'R0075' since it already exists.\n"
     ]
    }
   ],
   "source": [
    "R_31310 = create_reaction(\n",
    "    \"R00947\", \n",
    "    \"alpha-D-glucose-1-phosphate phosphohydrolase\", \n",
    "    \"(b1002 or b3885)\", \n",
    "    {a_glc_p6_c : -1.0,bD_frc_p6_c : 1.0}\n",
    ")\n",
    "\n",
    "R_27111 = create_reaction(\n",
    "    \"R0075\", \n",
    "    \"ATP:D-fructose-6-phosphate 1-phosphotransferase\", \n",
    "    \"(b1723 or b3916)\", \n",
    "    {bD_frc_p6_c : -1.0,atp_c : -1.0,bD_frc_p1_6_c : 1.0,adp_c : 1.0,h : 1.0}\n",
    ")\n",
    "\n",
    "model.add_reactions([\n",
    "    R_31310,\n",
    "    R_27111\n",
    "])"
   ]
  },
  {
   "cell_type": "code",
   "execution_count": 23,
   "id": "2407f971",
   "metadata": {},
   "outputs": [
    {
     "name": "stdout",
     "output_type": "stream",
     "text": [
      "Reactions\n",
      "---------\n",
      "R00947 : a_glc_p6_c --> bD_frc_p6\n",
      "R0075 : atp_c + bD_frc_p6 --> adp_c + bD_frc_p1_6_c + h\n",
      "\n",
      "Metabolites\n",
      "-----------\n",
      "a_glc_p6_c : C6H11O9P\n",
      "bD_frc_p6 : C6H11O9P\n",
      "    atp_c : C10H12N5O13P3\n",
      "bD_frc_p1_6_c : C6H10O12P2\n",
      "    adp_c : C10H12N5O10P2\n",
      "        h : H+\n",
      "\n",
      "Genes\n",
      "-----\n",
      "b3885 is associated with reactions: {R00947}\n",
      "b1002 is associated with reactions: {R00947}\n",
      "b1723 is associated with reactions: {R0075}\n",
      "b3916 is associated with reactions: {R0075}\n"
     ]
    }
   ],
   "source": [
    "print(\"Reactions\")\n",
    "print(\"---------\")\n",
    "for x in model.reactions:\n",
    "    print(\"%s : %s\" % (x.id, x.reaction))\n",
    "\n",
    "print(\"\")\n",
    "print(\"Metabolites\")\n",
    "print(\"-----------\")\n",
    "for x in model.metabolites:\n",
    "    print('%9s : %s' % (x.id, x.formula))\n",
    "\n",
    "print(\"\")\n",
    "print(\"Genes\")\n",
    "print(\"-----\")\n",
    "for x in model.genes:\n",
    "    associated_ids = (i.id for i in x.reactions)\n",
    "    print(\"%s is associated with reactions: %s\" %\n",
    "          (x.id, \"{\" + \", \".join(associated_ids) + \"}\"))"
   ]
  },
  {
   "cell_type": "code",
   "execution_count": null,
   "id": "c460f8a0",
   "metadata": {},
   "outputs": [],
   "source": []
  }
 ],
 "metadata": {
  "kernelspec": {
   "display_name": "cobratest-py3.12",
   "language": "python",
   "name": "python3"
  },
  "language_info": {
   "codemirror_mode": {
    "name": "ipython",
    "version": 3
   },
   "file_extension": ".py",
   "mimetype": "text/x-python",
   "name": "python",
   "nbconvert_exporter": "python",
   "pygments_lexer": "ipython3",
   "version": "3.12.9"
  }
 },
 "nbformat": 4,
 "nbformat_minor": 5
}
