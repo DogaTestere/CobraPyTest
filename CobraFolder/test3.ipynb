{
 "cells": [
  {
   "cell_type": "code",
   "execution_count": null,
   "id": "391e3efb",
   "metadata": {},
   "outputs": [],
   "source": [
    "from cobra.io import load_model\n",
    "from cobra.flux_analysis import (\n",
    "    single_gene_deletion, single_reaction_deletion,\n",
    "    double_gene_deletion, double_reaction_deletion,\n",
    "    flux_variability_analysis\n",
    ")\n",
    "from cobra.util.solver import linear_reaction_coefficients\n",
    "\n",
    "from CobraFolder.Glycolis import model"
   ]
  },
  {
   "cell_type": "code",
   "execution_count": 2,
   "id": "7aac3e60",
   "metadata": {},
   "outputs": [
    {
     "data": {
      "text/html": [
       "\n",
       "        <table>\n",
       "            <tr>\n",
       "                <td><strong>Name</strong></td>\n",
       "                <td>NewModel</td>\n",
       "            </tr><tr>\n",
       "                <td><strong>Memory address</strong></td>\n",
       "                <td>7953a2456f60</td>\n",
       "            </tr><tr>\n",
       "                <td><strong>Number of metabolites</strong></td>\n",
       "                <td>33</td>\n",
       "            </tr><tr>\n",
       "                <td><strong>Number of reactions</strong></td>\n",
       "                <td>30</td>\n",
       "            </tr><tr>\n",
       "                <td><strong>Number of genes</strong></td>\n",
       "                <td>33</td>\n",
       "            </tr><tr>\n",
       "                <td><strong>Number of groups</strong></td>\n",
       "                <td>0</td>\n",
       "            </tr><tr>\n",
       "                <td><strong>Objective expression</strong></td>\n",
       "                <td>1.0*R00200 - 1.0*R00200_reverse_12cca</td>\n",
       "            </tr><tr>\n",
       "                <td><strong>Compartments</strong></td>\n",
       "                <td>e, c</td>\n",
       "            </tr>\n",
       "          </table>"
      ],
      "text/plain": [
       "<Model NewModel at 0x7953a2456f60>"
      ]
     },
     "execution_count": 2,
     "metadata": {},
     "output_type": "execute_result"
    }
   ],
   "source": [
    "model"
   ]
  },
  {
   "cell_type": "code",
   "execution_count": 3,
   "id": "64513a8a",
   "metadata": {},
   "outputs": [
    {
     "name": "stdout",
     "output_type": "stream",
     "text": [
      "exchanges [<Reaction EX_glc_EX at 0x7953a7d40a10>, <Reaction EX_salc at 0x7953a24cc4d0>, <Reaction EX_arbt at 0x7953a2c7e4e0>]\n",
      "demands [<Reaction DM_pyr at 0x7953a24f9190>]\n"
     ]
    }
   ],
   "source": [
    "print(\"exchanges\", model.exchanges)\n",
    "print(\"demands\", model.demands)"
   ]
  },
  {
   "cell_type": "code",
   "execution_count": 4,
   "id": "7a1d9bc0",
   "metadata": {},
   "outputs": [
    {
     "data": {
      "text/html": [
       "<strong><em>Optimal</em> solution with objective value 10.000</strong><br><div>\n",
       "<style scoped>\n",
       "    .dataframe tbody tr th:only-of-type {\n",
       "        vertical-align: middle;\n",
       "    }\n",
       "\n",
       "    .dataframe tbody tr th {\n",
       "        vertical-align: top;\n",
       "    }\n",
       "\n",
       "    .dataframe thead th {\n",
       "        text-align: right;\n",
       "    }\n",
       "</style>\n",
       "<table border=\"1\" class=\"dataframe\">\n",
       "  <thead>\n",
       "    <tr style=\"text-align: right;\">\n",
       "      <th></th>\n",
       "      <th>fluxes</th>\n",
       "      <th>reduced_costs</th>\n",
       "    </tr>\n",
       "  </thead>\n",
       "  <tbody>\n",
       "    <tr>\n",
       "      <th>R02738</th>\n",
       "      <td>10.0</td>\n",
       "      <td>-5.551115e-16</td>\n",
       "    </tr>\n",
       "    <tr>\n",
       "      <th>R13199</th>\n",
       "      <td>10.0</td>\n",
       "      <td>1.110223e-16</td>\n",
       "    </tr>\n",
       "    <tr>\n",
       "      <th>R00756</th>\n",
       "      <td>20.0</td>\n",
       "      <td>2.220446e-16</td>\n",
       "    </tr>\n",
       "    <tr>\n",
       "      <th>R00762</th>\n",
       "      <td>10.0</td>\n",
       "      <td>0.000000e+00</td>\n",
       "    </tr>\n",
       "    <tr>\n",
       "      <th>R01068</th>\n",
       "      <td>10.0</td>\n",
       "      <td>3.330669e-17</td>\n",
       "    </tr>\n",
       "    <tr>\n",
       "      <th>...</th>\n",
       "      <td>...</td>\n",
       "      <td>...</td>\n",
       "    </tr>\n",
       "    <tr>\n",
       "      <th>EX_salc</th>\n",
       "      <td>0.0</td>\n",
       "      <td>0.000000e+00</td>\n",
       "    </tr>\n",
       "    <tr>\n",
       "      <th>EX_arbt</th>\n",
       "      <td>0.0</td>\n",
       "      <td>0.000000e+00</td>\n",
       "    </tr>\n",
       "    <tr>\n",
       "      <th>DM_pyr</th>\n",
       "      <td>0.0</td>\n",
       "      <td>-5.921189e-17</td>\n",
       "    </tr>\n",
       "    <tr>\n",
       "      <th>SK_kdgp</th>\n",
       "      <td>10.0</td>\n",
       "      <td>-5.551115e-17</td>\n",
       "    </tr>\n",
       "    <tr>\n",
       "      <th>SK_oxa</th>\n",
       "      <td>0.0</td>\n",
       "      <td>-2.220446e-16</td>\n",
       "    </tr>\n",
       "  </tbody>\n",
       "</table>\n",
       "<p>30 rows × 2 columns</p>\n",
       "</div>"
      ],
      "text/plain": [
       "<Solution 10.000 at 0x7953a223a2a0>"
      ]
     },
     "execution_count": 4,
     "metadata": {},
     "output_type": "execute_result"
    }
   ],
   "source": [
    "model.optimize()"
   ]
  },
  {
   "cell_type": "code",
   "execution_count": 5,
   "id": "43741f2f",
   "metadata": {},
   "outputs": [
    {
     "name": "stdout",
     "output_type": "stream",
     "text": [
      "(<Model NewModel at 0x7953c63b9640>,\n",
      " {'COBRA_CHECK': [],\n",
      "  'COBRA_ERROR': [],\n",
      "  'COBRA_FATAL': [],\n",
      "  'COBRA_WARNING': [],\n",
      "  'SBML_ERROR': [],\n",
      "  'SBML_FATAL': [],\n",
      "  'SBML_SCHEMA_ERROR': [],\n",
      "  'SBML_WARNING': []})\n"
     ]
    }
   ],
   "source": [
    "import tempfile\n",
    "from pprint import pprint\n",
    "from cobra.io import write_sbml_model, validate_sbml_model\n",
    "with tempfile.NamedTemporaryFile(suffix='.xml') as f_sbml:\n",
    "    write_sbml_model(model, filename=f_sbml.name)\n",
    "    report = validate_sbml_model(filename=f_sbml.name)\n",
    "\n",
    "pprint(report)\n",
    "\n"
   ]
  },
  {
   "cell_type": "code",
   "execution_count": 6,
   "id": "10d29478",
   "metadata": {},
   "outputs": [
    {
     "name": "stdout",
     "output_type": "stream",
     "text": [
      "Reactions\n",
      "---------\n",
      "R02738 : glc_EX --> glc_p\n",
      "R13199 : glc_p <=> frc_p\n",
      "R00756 : atp + frc_p --> adp + frc_dp\n",
      "R00762 : frc_dp + h2o --> frc_p + pi\n",
      "R01068 : frc_dp <=> dhap + gap\n",
      "R01015 : gap <=> dhap\n",
      "R01061 : gap + nad + pi <=> dpg + h + nadh\n",
      "R01512 : adp + dpg <=> atp + g3p\n",
      "R01518 : g2p <=> g3p\n",
      "R00658 : g2p <=> h2o + pep\n",
      "R00200 : adp + h + pep --> atp + pyr\n",
      "R00199 : atp + h2o + pyr --> amp + pep + pi\n",
      "R01786 : atp + glc_d --> adp + glc_p + h\n",
      "R00341 : atp + oxa <=> adp + co2 + pep\n",
      "R00959 : glc_ap <=> glc_p\n",
      "R02739 : glc_bp <=> glc_p\n",
      "R01600 : atp + glc_b --> adp + glc_bp\n",
      "R00947 : glc_ap + h2o --> glc_d + pi\n",
      "R05134 : h2o + salc_p --> glc_bp + salc_oh\n",
      "R05133 : arbt_p + h2o --> glc_bp + hqui\n",
      "R05605 : kdgp <=> gap + pyr\n",
      "R08572 : atp + glyc --> adp + g2p + h\n",
      "ATP_M : adp + pi --> atp\n",
      "NADH_OX : nadh --> nad\n",
      "EX_glc_EX : glc_EX <=> \n",
      "EX_salc : salc <=> \n",
      "EX_arbt : arbt <=> \n",
      "DM_pyr : pyr --> \n",
      "SK_kdgp : kdgp <=> \n",
      "SK_oxa : oxa <=> \n"
     ]
    }
   ],
   "source": [
    "# Iterate through the the objects in the model\n",
    "print(\"Reactions\")\n",
    "print(\"---------\")\n",
    "for x in model.reactions:\n",
    "    print(\"%s : %s\" % (x.id, x.reaction))"
   ]
  },
  {
   "cell_type": "code",
   "execution_count": null,
   "id": "905afc95",
   "metadata": {},
   "outputs": [],
   "source": []
  }
 ],
 "metadata": {
  "kernelspec": {
   "display_name": "cobratest-py3.12",
   "language": "python",
   "name": "python3"
  },
  "language_info": {
   "codemirror_mode": {
    "name": "ipython",
    "version": 3
   },
   "file_extension": ".py",
   "mimetype": "text/x-python",
   "name": "python",
   "nbconvert_exporter": "python",
   "pygments_lexer": "ipython3",
   "version": "3.12.9"
  }
 },
 "nbformat": 4,
 "nbformat_minor": 5
}
